{
  "cells": [
    {
      "cell_type": "markdown",
      "metadata": {
        "id": "view-in-github",
        "colab_type": "text"
      },
      "source": [
        "<a href=\"https://colab.research.google.com/github/pelinbalci/TF_Custom_Models/blob/main/Quadratic_Layer.ipynb\" target=\"_parent\"><img src=\"https://colab.research.google.com/assets/colab-badge.svg\" alt=\"Open In Colab\"/></a>"
      ]
    },
    {
      "cell_type": "markdown",
      "id": "676fb508-97f7-4547-add9-ddb1b5d3e382",
      "metadata": {
        "id": "676fb508-97f7-4547-add9-ddb1b5d3e382"
      },
      "source": [
        "# Quadratic Layer\n",
        "\n",
        "build a custom quadratic layer which computes $y = ax^2 + bx + c$. "
      ]
    },
    {
      "cell_type": "code",
      "execution_count": null,
      "id": "0de53789-822e-4002-856d-0c124157eabb",
      "metadata": {
        "id": "0de53789-822e-4002-856d-0c124157eabb"
      },
      "outputs": [],
      "source": [
        "import tensorflow as tf\n",
        "from tensorflow.keras.layers import Layer\n",
        "\n",
        "import utils\n",
        "\n",
        "# Visualize model\n",
        "from tensorflow.keras.layers import Layer\n",
        "from tensorflow.python.keras.utils.vis_utils import pydot\n",
        "from tensorflow.python.keras.utils.vis_utils import plot_model\n",
        "\n",
        "# Error : Function call stack:train_function\n",
        "# https://github.com/tensorflow/tensorflow/issues/43174\n",
        "from tensorflow.compat.v1 import ConfigProto\n",
        "from tensorflow.compat.v1 import InteractiveSession\n",
        "\n",
        "config = ConfigProto()\n",
        "config.gpu_options.allow_growth = True\n",
        "session = InteractiveSession(config=config)"
      ]
    },
    {
      "cell_type": "code",
      "execution_count": null,
      "id": "b7398930-cef2-449a-a294-0fa270658e46",
      "metadata": {
        "id": "b7398930-cef2-449a-a294-0fa270658e46"
      },
      "outputs": [],
      "source": [
        "class SimpleQuadratic(Layer):\n",
        "\n",
        "    def __init__(self, units=32, activation=None):\n",
        "        '''Initializes the class and sets up the internal variables'''\n",
        "        # YOUR CODE HERE\n",
        "        super(SimpleQuadratic, self).__init__()\n",
        "        self.units = units\n",
        "        self.activation = tf.keras.activations.get(activation)\n",
        "    \n",
        "    def build(self, input_shape):\n",
        "        '''Create the state of the layer (weights)'''\n",
        "        # a and b should be initialized with random normal, c (or the bias) with zeros.\n",
        "        # remember to set these as trainable.\n",
        "        # YOUR CODE HERE\n",
        "        a_init = tf.random_normal_initializer()\n",
        "        self.a = tf.Variable(name='kernel',\n",
        "                            initial_value=a_init(shape=(input_shape[-1], \n",
        "                                                        self.units), \n",
        "                                                 dtype='float32'),\n",
        "                            trainable=True)\n",
        "        \n",
        "        b_init = tf.random_normal_initializer()\n",
        "        self.b = tf.Variable(name='kernel',\n",
        "                            initial_value=b_init(shape=(input_shape[-1], \n",
        "                                                        self.units), \n",
        "                                                 dtype='float32'),\n",
        "                            trainable=True)\n",
        "        \n",
        "        c_init = tf.zeros_initializer()\n",
        "        self.c = tf.Variable(name='bias',\n",
        "                            initial_value=c_init(shape=(self.units,), \n",
        "                                                 dtype='float32'),\n",
        "                            trainable=True)\n",
        "   \n",
        "    def call(self, inputs):\n",
        "        '''Defines the computation from inputs to outputs'''\n",
        "        # Remember to use self.activation() to get the final output\n",
        "        # YOUR CODE HERE\n",
        "        x_squared = tf.math.square(inputs)\n",
        "        x_squared_times_a = tf.matmul(x_squared, self.a)\n",
        "        x_times_b = tf.matmul(inputs, self.b)\n",
        "        x2a_plus_xb_plus_c = x_squared_times_a + x_times_b + self.c\n",
        "        return self.activation(x2a_plus_xb_plus_c)"
      ]
    },
    {
      "cell_type": "code",
      "execution_count": null,
      "id": "94fa2f1b-36fe-4972-9fe2-692e5abe61af",
      "metadata": {
        "id": "94fa2f1b-36fe-4972-9fe2-692e5abe61af"
      },
      "outputs": [],
      "source": [
        "mnist = tf.keras.datasets.mnist\n",
        "\n",
        "(x_train, y_train),(x_test, y_test) = mnist.load_data()\n",
        "x_train, x_test = x_train / 255.0, x_test / 255.0"
      ]
    },
    {
      "cell_type": "code",
      "execution_count": null,
      "id": "f4992d55-3ea4-4f09-9102-d7b0dc33cd6e",
      "metadata": {
        "id": "f4992d55-3ea4-4f09-9102-d7b0dc33cd6e"
      },
      "outputs": [],
      "source": [
        "model = tf.keras.models.Sequential([\n",
        "  tf.keras.layers.Flatten(input_shape=(28, 28)),\n",
        "  SimpleQuadratic(128, activation='relu'),\n",
        "  tf.keras.layers.Dropout(0.2),\n",
        "  tf.keras.layers.Dense(10, activation='softmax')\n",
        "])"
      ]
    },
    {
      "cell_type": "code",
      "execution_count": null,
      "id": "e055082b-0393-453f-bd3f-ce2a348d115f",
      "metadata": {
        "id": "e055082b-0393-453f-bd3f-ce2a348d115f",
        "outputId": "bc59154d-bfed-4362-a422-aab3d1ba3378"
      },
      "outputs": [
        {
          "data": {
            "image/png": "[encoded data removed]",
            "text/plain": [
              "<IPython.core.display.Image object>"
            ]
          },
          "execution_count": 5,
          "metadata": {},
          "output_type": "execute_result"
        }
      ],
      "source": [
        "model._layers = [layer for layer in model._layers if isinstance (layer, Layer)]\n",
        "plot_model(model, show_shapes = True, show_layer_names = True)"
      ]
    },
    {
      "cell_type": "code",
      "execution_count": null,
      "id": "b92f6c08-4d4a-4d3e-950c-4ce9b23d6259",
      "metadata": {
        "id": "b92f6c08-4d4a-4d3e-950c-4ce9b23d6259",
        "outputId": "3b595022-ed4e-4777-8747-867e641362a0"
      },
      "outputs": [
        {
          "name": "stdout",
          "output_type": "stream",
          "text": [
            "Epoch 1/5\n",
            "1875/1875 [==============================] - 6s 3ms/step - loss: 0.4405 - accuracy: 0.8655\n",
            "Epoch 2/5\n",
            "1875/1875 [==============================] - 5s 2ms/step - loss: 0.1401 - accuracy: 0.9582\n",
            "Epoch 3/5\n",
            "1875/1875 [==============================] - 5s 2ms/step - loss: 0.1025 - accuracy: 0.9680\n",
            "Epoch 4/5\n",
            "1875/1875 [==============================] - 5s 3ms/step - loss: 0.0816 - accuracy: 0.9743\n",
            "Epoch 5/5\n",
            "1875/1875 [==============================] - 5s 3ms/step - loss: 0.0699 - accuracy: 0.9784\n",
            "313/313 [==============================] - 1s 2ms/step - loss: 0.0743 - accuracy: 0.9784\n"
          ]
        },
        {
          "data": {
            "text/plain": [
              "[0.0742969661951065, 0.9783999919891357]"
            ]
          },
          "execution_count": 6,
          "metadata": {},
          "output_type": "execute_result"
        }
      ],
      "source": [
        "model.compile(optimizer='adam',\n",
        "              loss='sparse_categorical_crossentropy',\n",
        "              metrics=['accuracy'])\n",
        "\n",
        "model.fit(x_train, y_train, epochs=5)\n",
        "model.evaluate(x_test, y_test)"
      ]
    }
  ],
  "metadata": {
    "kernelspec": {
      "display_name": "Python 3",
      "language": "python",
      "name": "python3"
    },
    "language_info": {
      "codemirror_mode": {
        "name": "ipython",
        "version": 3
      },
      "file_extension": ".py",
      "mimetype": "text/x-python",
      "name": "python",
      "nbconvert_exporter": "python",
      "pygments_lexer": "ipython3",
      "version": "3.8.5"
    },
    "colab": {
      "provenance": [],
      "include_colab_link": true
    }
  },
  "nbformat": 4,
  "nbformat_minor": 5
}