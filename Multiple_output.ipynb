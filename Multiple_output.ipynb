{
  "cells": [
    {
      "cell_type": "markdown",
      "metadata": {
        "id": "view-in-github",
        "colab_type": "text"
      },
      "source": [
        "<a href=\"https://colab.research.google.com/github/pelinbalci/TF_Custom_Models/blob/main/Multiple_output.ipynb\" target=\"_parent\"><img src=\"https://colab.research.google.com/assets/colab-badge.svg\" alt=\"Open In Colab\"/></a>"
      ]
    },
    {
      "cell_type": "markdown",
      "source": [
        "In this notebook, I analyze the wine dataset and build a model for multiple outputs: is_red (0,1) and quality(float). Different loss function are used for two outputs. "
      ],
      "metadata": {
        "id": "hMW7MGrdcaqw"
      },
      "id": "hMW7MGrdcaqw"
    },
    {
      "cell_type": "code",
      "execution_count": null,
      "id": "f4b625a9-fb0a-42b7-b8d7-1f4146e086ff",
      "metadata": {
        "id": "f4b625a9-fb0a-42b7-b8d7-1f4146e086ff"
      },
      "outputs": [],
      "source": [
        "import tensorflow as tf\n",
        "from tensorflow.keras.models import Model\n",
        "from tensorflow.keras.layers import Dense, Input\n",
        "\n",
        "import numpy as np\n",
        "import matplotlib.pyplot as plt\n",
        "import pandas as pd\n",
        "from sklearn.model_selection import train_test_split\n",
        "from sklearn.metrics import confusion_matrix\n",
        "import itertools\n",
        "\n",
        "import utils\n",
        "\n",
        "# Visualize model\n",
        "from tensorflow.keras.layers import Layer\n",
        "from tensorflow.python.keras.utils.vis_utils import pydot\n",
        "from tensorflow.python.keras.utils.vis_utils import plot_model\n",
        "\n",
        "# Error : Function call stack:train_function\n",
        "# https://github.com/tensorflow/tensorflow/issues/43174\n",
        "from tensorflow.compat.v1 import ConfigProto\n",
        "from tensorflow.compat.v1 import InteractiveSession\n",
        "\n",
        "config = ConfigProto()\n",
        "config.gpu_options.allow_growth = True\n",
        "session = InteractiveSession(config=config)"
      ]
    },
    {
      "cell_type": "markdown",
      "id": "f0e78bc3-3bbf-4b11-815d-b2776ddfd3b9",
      "metadata": {
        "id": "f0e78bc3-3bbf-4b11-815d-b2776ddfd3b9"
      },
      "source": [
        "# Load Data"
      ]
    },
    {
      "cell_type": "code",
      "execution_count": null,
      "id": "87a8482d-2c24-473c-9810-e1ac96eb1369",
      "metadata": {
        "id": "87a8482d-2c24-473c-9810-e1ac96eb1369"
      },
      "outputs": [],
      "source": [
        "# URL of the white wine dataset\n",
        "URI = './winequality-white.csv'\n",
        "\n",
        "# load the dataset from the URL\n",
        "white_df = pd.read_csv(URI, sep=\";\")\n",
        "\n",
        "# fill the `is_red` column with zeros.\n",
        "white_df[\"is_red\"] = 0 # YOUR CODE HERE\n",
        "\n",
        "# keep only the first of duplicate items\n",
        "white_df = white_df.drop_duplicates(keep='first')\n",
        "\n",
        "# URL of the red wine dataset\n",
        "URI = './winequality-red.csv'\n",
        "\n",
        "# load the dataset from the URL\n",
        "red_df = pd.read_csv(URI, sep=\";\")\n",
        "\n",
        "# fill the `is_red` column with ones.\n",
        "red_df[\"is_red\"] = 1 # YOUR CODE HERE\n",
        "\n",
        "# keep only the first of duplicate items\n",
        "red_df = red_df.drop_duplicates(keep='first')\n",
        "\n",
        "df = pd.concat([red_df, white_df], ignore_index=True)"
      ]
    },
    {
      "cell_type": "code",
      "execution_count": null,
      "id": "f429e20a-c3bc-47a3-b3cb-35f9a42d46f8",
      "metadata": {
        "id": "f429e20a-c3bc-47a3-b3cb-35f9a42d46f8",
        "outputId": "b5701aff-c605-4643-d579-32b8b40fc711"
      },
      "outputs": [
        {
          "data": {
            "text/html": [
              "<div>\n",
              "<style scoped>\n",
              "    .dataframe tbody tr th:only-of-type {\n",
              "        vertical-align: middle;\n",
              "    }\n",
              "\n",
              "    .dataframe tbody tr th {\n",
              "        vertical-align: top;\n",
              "    }\n",
              "\n",
              "    .dataframe thead th {\n",
              "        text-align: right;\n",
              "    }\n",
              "</style>\n",
              "<table border=\"1\" class=\"dataframe\">\n",
              "  <thead>\n",
              "    <tr style=\"text-align: right;\">\n",
              "      <th></th>\n",
              "      <th>fixed acidity</th>\n",
              "      <th>volatile acidity</th>\n",
              "      <th>citric acid</th>\n",
              "      <th>residual sugar</th>\n",
              "      <th>chlorides</th>\n",
              "      <th>free sulfur dioxide</th>\n",
              "      <th>total sulfur dioxide</th>\n",
              "      <th>density</th>\n",
              "      <th>pH</th>\n",
              "      <th>sulphates</th>\n",
              "      <th>alcohol</th>\n",
              "      <th>quality</th>\n",
              "      <th>is_red</th>\n",
              "    </tr>\n",
              "  </thead>\n",
              "  <tbody>\n",
              "    <tr>\n",
              "      <th>0</th>\n",
              "      <td>7.0</td>\n",
              "      <td>0.27</td>\n",
              "      <td>0.36</td>\n",
              "      <td>20.7</td>\n",
              "      <td>0.045</td>\n",
              "      <td>45.0</td>\n",
              "      <td>170.0</td>\n",
              "      <td>1.0010</td>\n",
              "      <td>3.00</td>\n",
              "      <td>0.45</td>\n",
              "      <td>8.8</td>\n",
              "      <td>6</td>\n",
              "      <td>0</td>\n",
              "    </tr>\n",
              "    <tr>\n",
              "      <th>1</th>\n",
              "      <td>6.3</td>\n",
              "      <td>0.30</td>\n",
              "      <td>0.34</td>\n",
              "      <td>1.6</td>\n",
              "      <td>0.049</td>\n",
              "      <td>14.0</td>\n",
              "      <td>132.0</td>\n",
              "      <td>0.9940</td>\n",
              "      <td>3.30</td>\n",
              "      <td>0.49</td>\n",
              "      <td>9.5</td>\n",
              "      <td>6</td>\n",
              "      <td>0</td>\n",
              "    </tr>\n",
              "    <tr>\n",
              "      <th>2</th>\n",
              "      <td>8.1</td>\n",
              "      <td>0.28</td>\n",
              "      <td>0.40</td>\n",
              "      <td>6.9</td>\n",
              "      <td>0.050</td>\n",
              "      <td>30.0</td>\n",
              "      <td>97.0</td>\n",
              "      <td>0.9951</td>\n",
              "      <td>3.26</td>\n",
              "      <td>0.44</td>\n",
              "      <td>10.1</td>\n",
              "      <td>6</td>\n",
              "      <td>0</td>\n",
              "    </tr>\n",
              "    <tr>\n",
              "      <th>3</th>\n",
              "      <td>7.2</td>\n",
              "      <td>0.23</td>\n",
              "      <td>0.32</td>\n",
              "      <td>8.5</td>\n",
              "      <td>0.058</td>\n",
              "      <td>47.0</td>\n",
              "      <td>186.0</td>\n",
              "      <td>0.9956</td>\n",
              "      <td>3.19</td>\n",
              "      <td>0.40</td>\n",
              "      <td>9.9</td>\n",
              "      <td>6</td>\n",
              "      <td>0</td>\n",
              "    </tr>\n",
              "    <tr>\n",
              "      <th>6</th>\n",
              "      <td>6.2</td>\n",
              "      <td>0.32</td>\n",
              "      <td>0.16</td>\n",
              "      <td>7.0</td>\n",
              "      <td>0.045</td>\n",
              "      <td>30.0</td>\n",
              "      <td>136.0</td>\n",
              "      <td>0.9949</td>\n",
              "      <td>3.18</td>\n",
              "      <td>0.47</td>\n",
              "      <td>9.6</td>\n",
              "      <td>6</td>\n",
              "      <td>0</td>\n",
              "    </tr>\n",
              "  </tbody>\n",
              "</table>\n",
              "</div>"
            ],
            "text/plain": [
              "   fixed acidity  volatile acidity  citric acid  residual sugar  chlorides  \\\n",
              "0            7.0              0.27         0.36            20.7      0.045   \n",
              "1            6.3              0.30         0.34             1.6      0.049   \n",
              "2            8.1              0.28         0.40             6.9      0.050   \n",
              "3            7.2              0.23         0.32             8.5      0.058   \n",
              "6            6.2              0.32         0.16             7.0      0.045   \n",
              "\n",
              "   free sulfur dioxide  total sulfur dioxide  density    pH  sulphates  \\\n",
              "0                 45.0                 170.0   1.0010  3.00       0.45   \n",
              "1                 14.0                 132.0   0.9940  3.30       0.49   \n",
              "2                 30.0                  97.0   0.9951  3.26       0.44   \n",
              "3                 47.0                 186.0   0.9956  3.19       0.40   \n",
              "6                 30.0                 136.0   0.9949  3.18       0.47   \n",
              "\n",
              "   alcohol  quality  is_red  \n",
              "0      8.8        6       0  \n",
              "1      9.5        6       0  \n",
              "2     10.1        6       0  \n",
              "3      9.9        6       0  \n",
              "6      9.6        6       0  "
            ]
          },
          "execution_count": 3,
          "metadata": {},
          "output_type": "execute_result"
        }
      ],
      "source": [
        "white_df.head()"
      ]
    },
    {
      "cell_type": "code",
      "execution_count": null,
      "id": "62ca8905-e2cd-4486-a445-f7f550fda574",
      "metadata": {
        "id": "62ca8905-e2cd-4486-a445-f7f550fda574",
        "outputId": "adeacc82-3e0d-45b8-f335-a79e16be43f2"
      },
      "outputs": [
        {
          "data": {
            "text/html": [
              "<div>\n",
              "<style scoped>\n",
              "    .dataframe tbody tr th:only-of-type {\n",
              "        vertical-align: middle;\n",
              "    }\n",
              "\n",
              "    .dataframe tbody tr th {\n",
              "        vertical-align: top;\n",
              "    }\n",
              "\n",
              "    .dataframe thead th {\n",
              "        text-align: right;\n",
              "    }\n",
              "</style>\n",
              "<table border=\"1\" class=\"dataframe\">\n",
              "  <thead>\n",
              "    <tr style=\"text-align: right;\">\n",
              "      <th></th>\n",
              "      <th>fixed acidity</th>\n",
              "      <th>volatile acidity</th>\n",
              "      <th>citric acid</th>\n",
              "      <th>residual sugar</th>\n",
              "      <th>chlorides</th>\n",
              "      <th>free sulfur dioxide</th>\n",
              "      <th>total sulfur dioxide</th>\n",
              "      <th>density</th>\n",
              "      <th>pH</th>\n",
              "      <th>sulphates</th>\n",
              "      <th>alcohol</th>\n",
              "      <th>quality</th>\n",
              "      <th>is_red</th>\n",
              "    </tr>\n",
              "  </thead>\n",
              "  <tbody>\n",
              "    <tr>\n",
              "      <th>0</th>\n",
              "      <td>7.4</td>\n",
              "      <td>0.70</td>\n",
              "      <td>0.00</td>\n",
              "      <td>1.9</td>\n",
              "      <td>0.076</td>\n",
              "      <td>11.0</td>\n",
              "      <td>34.0</td>\n",
              "      <td>0.9978</td>\n",
              "      <td>3.51</td>\n",
              "      <td>0.56</td>\n",
              "      <td>9.4</td>\n",
              "      <td>5</td>\n",
              "      <td>1</td>\n",
              "    </tr>\n",
              "    <tr>\n",
              "      <th>1</th>\n",
              "      <td>7.8</td>\n",
              "      <td>0.88</td>\n",
              "      <td>0.00</td>\n",
              "      <td>2.6</td>\n",
              "      <td>0.098</td>\n",
              "      <td>25.0</td>\n",
              "      <td>67.0</td>\n",
              "      <td>0.9968</td>\n",
              "      <td>3.20</td>\n",
              "      <td>0.68</td>\n",
              "      <td>9.8</td>\n",
              "      <td>5</td>\n",
              "      <td>1</td>\n",
              "    </tr>\n",
              "    <tr>\n",
              "      <th>2</th>\n",
              "      <td>7.8</td>\n",
              "      <td>0.76</td>\n",
              "      <td>0.04</td>\n",
              "      <td>2.3</td>\n",
              "      <td>0.092</td>\n",
              "      <td>15.0</td>\n",
              "      <td>54.0</td>\n",
              "      <td>0.9970</td>\n",
              "      <td>3.26</td>\n",
              "      <td>0.65</td>\n",
              "      <td>9.8</td>\n",
              "      <td>5</td>\n",
              "      <td>1</td>\n",
              "    </tr>\n",
              "    <tr>\n",
              "      <th>3</th>\n",
              "      <td>11.2</td>\n",
              "      <td>0.28</td>\n",
              "      <td>0.56</td>\n",
              "      <td>1.9</td>\n",
              "      <td>0.075</td>\n",
              "      <td>17.0</td>\n",
              "      <td>60.0</td>\n",
              "      <td>0.9980</td>\n",
              "      <td>3.16</td>\n",
              "      <td>0.58</td>\n",
              "      <td>9.8</td>\n",
              "      <td>6</td>\n",
              "      <td>1</td>\n",
              "    </tr>\n",
              "    <tr>\n",
              "      <th>4</th>\n",
              "      <td>7.4</td>\n",
              "      <td>0.66</td>\n",
              "      <td>0.00</td>\n",
              "      <td>1.8</td>\n",
              "      <td>0.075</td>\n",
              "      <td>13.0</td>\n",
              "      <td>40.0</td>\n",
              "      <td>0.9978</td>\n",
              "      <td>3.51</td>\n",
              "      <td>0.56</td>\n",
              "      <td>9.4</td>\n",
              "      <td>5</td>\n",
              "      <td>1</td>\n",
              "    </tr>\n",
              "  </tbody>\n",
              "</table>\n",
              "</div>"
            ],
            "text/plain": [
              "   fixed acidity  volatile acidity  citric acid  residual sugar  chlorides  \\\n",
              "0            7.4              0.70         0.00             1.9      0.076   \n",
              "1            7.8              0.88         0.00             2.6      0.098   \n",
              "2            7.8              0.76         0.04             2.3      0.092   \n",
              "3           11.2              0.28         0.56             1.9      0.075   \n",
              "4            7.4              0.66         0.00             1.8      0.075   \n",
              "\n",
              "   free sulfur dioxide  total sulfur dioxide  density    pH  sulphates  \\\n",
              "0                 11.0                  34.0   0.9978  3.51       0.56   \n",
              "1                 25.0                  67.0   0.9968  3.20       0.68   \n",
              "2                 15.0                  54.0   0.9970  3.26       0.65   \n",
              "3                 17.0                  60.0   0.9980  3.16       0.58   \n",
              "4                 13.0                  40.0   0.9978  3.51       0.56   \n",
              "\n",
              "   alcohol  quality  is_red  \n",
              "0      9.4        5       1  \n",
              "1      9.8        5       1  \n",
              "2      9.8        5       1  \n",
              "3      9.8        6       1  \n",
              "4      9.4        5       1  "
            ]
          },
          "execution_count": 4,
          "metadata": {},
          "output_type": "execute_result"
        }
      ],
      "source": [
        "df.head()"
      ]
    },
    {
      "cell_type": "code",
      "execution_count": null,
      "id": "c02a7ba5-694b-4f0b-9599-07a0ad14f3b9",
      "metadata": {
        "id": "c02a7ba5-694b-4f0b-9599-07a0ad14f3b9",
        "outputId": "abb41b4c-1adc-441b-a6c5-4eebf4f0480c"
      },
      "outputs": [
        {
          "data": {
            "text/html": [
              "<div>\n",
              "<style scoped>\n",
              "    .dataframe tbody tr th:only-of-type {\n",
              "        vertical-align: middle;\n",
              "    }\n",
              "\n",
              "    .dataframe tbody tr th {\n",
              "        vertical-align: top;\n",
              "    }\n",
              "\n",
              "    .dataframe thead th {\n",
              "        text-align: right;\n",
              "    }\n",
              "</style>\n",
              "<table border=\"1\" class=\"dataframe\">\n",
              "  <thead>\n",
              "    <tr style=\"text-align: right;\">\n",
              "      <th></th>\n",
              "      <th>fixed acidity</th>\n",
              "      <th>volatile acidity</th>\n",
              "      <th>citric acid</th>\n",
              "      <th>residual sugar</th>\n",
              "      <th>chlorides</th>\n",
              "      <th>free sulfur dioxide</th>\n",
              "      <th>total sulfur dioxide</th>\n",
              "      <th>density</th>\n",
              "      <th>pH</th>\n",
              "      <th>sulphates</th>\n",
              "      <th>alcohol</th>\n",
              "      <th>quality</th>\n",
              "      <th>is_red</th>\n",
              "    </tr>\n",
              "  </thead>\n",
              "  <tbody>\n",
              "    <tr>\n",
              "      <th>count</th>\n",
              "      <td>3961.000000</td>\n",
              "      <td>3961.000000</td>\n",
              "      <td>3961.000000</td>\n",
              "      <td>3961.000000</td>\n",
              "      <td>3961.000000</td>\n",
              "      <td>3961.000000</td>\n",
              "      <td>3961.000000</td>\n",
              "      <td>3961.000000</td>\n",
              "      <td>3961.000000</td>\n",
              "      <td>3961.000000</td>\n",
              "      <td>3961.000000</td>\n",
              "      <td>3961.000000</td>\n",
              "      <td>3961.0</td>\n",
              "    </tr>\n",
              "    <tr>\n",
              "      <th>mean</th>\n",
              "      <td>6.839346</td>\n",
              "      <td>0.280538</td>\n",
              "      <td>0.334332</td>\n",
              "      <td>5.914819</td>\n",
              "      <td>0.045905</td>\n",
              "      <td>34.889169</td>\n",
              "      <td>137.193512</td>\n",
              "      <td>0.993790</td>\n",
              "      <td>3.195458</td>\n",
              "      <td>0.490351</td>\n",
              "      <td>10.589358</td>\n",
              "      <td>5.854835</td>\n",
              "      <td>0.0</td>\n",
              "    </tr>\n",
              "    <tr>\n",
              "      <th>std</th>\n",
              "      <td>0.866860</td>\n",
              "      <td>0.103437</td>\n",
              "      <td>0.122446</td>\n",
              "      <td>4.861646</td>\n",
              "      <td>0.023103</td>\n",
              "      <td>17.210021</td>\n",
              "      <td>43.129065</td>\n",
              "      <td>0.002905</td>\n",
              "      <td>0.151546</td>\n",
              "      <td>0.113523</td>\n",
              "      <td>1.217076</td>\n",
              "      <td>0.890683</td>\n",
              "      <td>0.0</td>\n",
              "    </tr>\n",
              "    <tr>\n",
              "      <th>min</th>\n",
              "      <td>3.800000</td>\n",
              "      <td>0.080000</td>\n",
              "      <td>0.000000</td>\n",
              "      <td>0.600000</td>\n",
              "      <td>0.009000</td>\n",
              "      <td>2.000000</td>\n",
              "      <td>9.000000</td>\n",
              "      <td>0.987110</td>\n",
              "      <td>2.720000</td>\n",
              "      <td>0.220000</td>\n",
              "      <td>8.000000</td>\n",
              "      <td>3.000000</td>\n",
              "      <td>0.0</td>\n",
              "    </tr>\n",
              "    <tr>\n",
              "      <th>25%</th>\n",
              "      <td>6.300000</td>\n",
              "      <td>0.210000</td>\n",
              "      <td>0.270000</td>\n",
              "      <td>1.600000</td>\n",
              "      <td>0.035000</td>\n",
              "      <td>23.000000</td>\n",
              "      <td>106.000000</td>\n",
              "      <td>0.991620</td>\n",
              "      <td>3.090000</td>\n",
              "      <td>0.410000</td>\n",
              "      <td>9.500000</td>\n",
              "      <td>5.000000</td>\n",
              "      <td>0.0</td>\n",
              "    </tr>\n",
              "    <tr>\n",
              "      <th>50%</th>\n",
              "      <td>6.800000</td>\n",
              "      <td>0.260000</td>\n",
              "      <td>0.320000</td>\n",
              "      <td>4.700000</td>\n",
              "      <td>0.042000</td>\n",
              "      <td>33.000000</td>\n",
              "      <td>133.000000</td>\n",
              "      <td>0.993500</td>\n",
              "      <td>3.180000</td>\n",
              "      <td>0.480000</td>\n",
              "      <td>10.400000</td>\n",
              "      <td>6.000000</td>\n",
              "      <td>0.0</td>\n",
              "    </tr>\n",
              "    <tr>\n",
              "      <th>75%</th>\n",
              "      <td>7.300000</td>\n",
              "      <td>0.330000</td>\n",
              "      <td>0.390000</td>\n",
              "      <td>8.900000</td>\n",
              "      <td>0.050000</td>\n",
              "      <td>45.000000</td>\n",
              "      <td>166.000000</td>\n",
              "      <td>0.995710</td>\n",
              "      <td>3.290000</td>\n",
              "      <td>0.550000</td>\n",
              "      <td>11.400000</td>\n",
              "      <td>6.000000</td>\n",
              "      <td>0.0</td>\n",
              "    </tr>\n",
              "    <tr>\n",
              "      <th>max</th>\n",
              "      <td>14.200000</td>\n",
              "      <td>1.100000</td>\n",
              "      <td>1.660000</td>\n",
              "      <td>65.800000</td>\n",
              "      <td>0.346000</td>\n",
              "      <td>289.000000</td>\n",
              "      <td>440.000000</td>\n",
              "      <td>1.038980</td>\n",
              "      <td>3.820000</td>\n",
              "      <td>1.080000</td>\n",
              "      <td>14.200000</td>\n",
              "      <td>9.000000</td>\n",
              "      <td>0.0</td>\n",
              "    </tr>\n",
              "  </tbody>\n",
              "</table>\n",
              "</div>"
            ],
            "text/plain": [
              "       fixed acidity  volatile acidity  citric acid  residual sugar  \\\n",
              "count    3961.000000       3961.000000  3961.000000     3961.000000   \n",
              "mean        6.839346          0.280538     0.334332        5.914819   \n",
              "std         0.866860          0.103437     0.122446        4.861646   \n",
              "min         3.800000          0.080000     0.000000        0.600000   \n",
              "25%         6.300000          0.210000     0.270000        1.600000   \n",
              "50%         6.800000          0.260000     0.320000        4.700000   \n",
              "75%         7.300000          0.330000     0.390000        8.900000   \n",
              "max        14.200000          1.100000     1.660000       65.800000   \n",
              "\n",
              "         chlorides  free sulfur dioxide  total sulfur dioxide      density  \\\n",
              "count  3961.000000          3961.000000           3961.000000  3961.000000   \n",
              "mean      0.045905            34.889169            137.193512     0.993790   \n",
              "std       0.023103            17.210021             43.129065     0.002905   \n",
              "min       0.009000             2.000000              9.000000     0.987110   \n",
              "25%       0.035000            23.000000            106.000000     0.991620   \n",
              "50%       0.042000            33.000000            133.000000     0.993500   \n",
              "75%       0.050000            45.000000            166.000000     0.995710   \n",
              "max       0.346000           289.000000            440.000000     1.038980   \n",
              "\n",
              "                pH    sulphates      alcohol      quality  is_red  \n",
              "count  3961.000000  3961.000000  3961.000000  3961.000000  3961.0  \n",
              "mean      3.195458     0.490351    10.589358     5.854835     0.0  \n",
              "std       0.151546     0.113523     1.217076     0.890683     0.0  \n",
              "min       2.720000     0.220000     8.000000     3.000000     0.0  \n",
              "25%       3.090000     0.410000     9.500000     5.000000     0.0  \n",
              "50%       3.180000     0.480000    10.400000     6.000000     0.0  \n",
              "75%       3.290000     0.550000    11.400000     6.000000     0.0  \n",
              "max       3.820000     1.080000    14.200000     9.000000     0.0  "
            ]
          },
          "execution_count": 5,
          "metadata": {},
          "output_type": "execute_result"
        }
      ],
      "source": [
        "white_df.describe()"
      ]
    },
    {
      "cell_type": "code",
      "execution_count": null,
      "id": "9b2e7ce8-3823-4c32-b06d-d5af0f492bc9",
      "metadata": {
        "id": "9b2e7ce8-3823-4c32-b06d-d5af0f492bc9",
        "outputId": "6f9db06a-3d1e-4bcd-db3b-9e72307d8a16"
      },
      "outputs": [
        {
          "data": {
            "text/html": [
              "<div>\n",
              "<style scoped>\n",
              "    .dataframe tbody tr th:only-of-type {\n",
              "        vertical-align: middle;\n",
              "    }\n",
              "\n",
              "    .dataframe tbody tr th {\n",
              "        vertical-align: top;\n",
              "    }\n",
              "\n",
              "    .dataframe thead th {\n",
              "        text-align: right;\n",
              "    }\n",
              "</style>\n",
              "<table border=\"1\" class=\"dataframe\">\n",
              "  <thead>\n",
              "    <tr style=\"text-align: right;\">\n",
              "      <th></th>\n",
              "      <th>fixed acidity</th>\n",
              "      <th>volatile acidity</th>\n",
              "      <th>citric acid</th>\n",
              "      <th>residual sugar</th>\n",
              "      <th>chlorides</th>\n",
              "      <th>free sulfur dioxide</th>\n",
              "      <th>total sulfur dioxide</th>\n",
              "      <th>density</th>\n",
              "      <th>pH</th>\n",
              "      <th>sulphates</th>\n",
              "      <th>alcohol</th>\n",
              "      <th>quality</th>\n",
              "      <th>is_red</th>\n",
              "    </tr>\n",
              "  </thead>\n",
              "  <tbody>\n",
              "    <tr>\n",
              "      <th>count</th>\n",
              "      <td>1359.000000</td>\n",
              "      <td>1359.000000</td>\n",
              "      <td>1359.000000</td>\n",
              "      <td>1359.000000</td>\n",
              "      <td>1359.000000</td>\n",
              "      <td>1359.000000</td>\n",
              "      <td>1359.000000</td>\n",
              "      <td>1359.000000</td>\n",
              "      <td>1359.000000</td>\n",
              "      <td>1359.000000</td>\n",
              "      <td>1359.000000</td>\n",
              "      <td>1359.000000</td>\n",
              "      <td>1359.0</td>\n",
              "    </tr>\n",
              "    <tr>\n",
              "      <th>mean</th>\n",
              "      <td>8.310596</td>\n",
              "      <td>0.529478</td>\n",
              "      <td>0.272333</td>\n",
              "      <td>2.523400</td>\n",
              "      <td>0.088124</td>\n",
              "      <td>15.893304</td>\n",
              "      <td>46.825975</td>\n",
              "      <td>0.996709</td>\n",
              "      <td>3.309787</td>\n",
              "      <td>0.658705</td>\n",
              "      <td>10.432315</td>\n",
              "      <td>5.623252</td>\n",
              "      <td>1.0</td>\n",
              "    </tr>\n",
              "    <tr>\n",
              "      <th>std</th>\n",
              "      <td>1.736990</td>\n",
              "      <td>0.183031</td>\n",
              "      <td>0.195537</td>\n",
              "      <td>1.352314</td>\n",
              "      <td>0.049377</td>\n",
              "      <td>10.447270</td>\n",
              "      <td>33.408946</td>\n",
              "      <td>0.001869</td>\n",
              "      <td>0.155036</td>\n",
              "      <td>0.170667</td>\n",
              "      <td>1.082065</td>\n",
              "      <td>0.823578</td>\n",
              "      <td>0.0</td>\n",
              "    </tr>\n",
              "    <tr>\n",
              "      <th>min</th>\n",
              "      <td>4.600000</td>\n",
              "      <td>0.120000</td>\n",
              "      <td>0.000000</td>\n",
              "      <td>0.900000</td>\n",
              "      <td>0.012000</td>\n",
              "      <td>1.000000</td>\n",
              "      <td>6.000000</td>\n",
              "      <td>0.990070</td>\n",
              "      <td>2.740000</td>\n",
              "      <td>0.330000</td>\n",
              "      <td>8.400000</td>\n",
              "      <td>3.000000</td>\n",
              "      <td>1.0</td>\n",
              "    </tr>\n",
              "    <tr>\n",
              "      <th>25%</th>\n",
              "      <td>7.100000</td>\n",
              "      <td>0.390000</td>\n",
              "      <td>0.090000</td>\n",
              "      <td>1.900000</td>\n",
              "      <td>0.070000</td>\n",
              "      <td>7.000000</td>\n",
              "      <td>22.000000</td>\n",
              "      <td>0.995600</td>\n",
              "      <td>3.210000</td>\n",
              "      <td>0.550000</td>\n",
              "      <td>9.500000</td>\n",
              "      <td>5.000000</td>\n",
              "      <td>1.0</td>\n",
              "    </tr>\n",
              "    <tr>\n",
              "      <th>50%</th>\n",
              "      <td>7.900000</td>\n",
              "      <td>0.520000</td>\n",
              "      <td>0.260000</td>\n",
              "      <td>2.200000</td>\n",
              "      <td>0.079000</td>\n",
              "      <td>14.000000</td>\n",
              "      <td>38.000000</td>\n",
              "      <td>0.996700</td>\n",
              "      <td>3.310000</td>\n",
              "      <td>0.620000</td>\n",
              "      <td>10.200000</td>\n",
              "      <td>6.000000</td>\n",
              "      <td>1.0</td>\n",
              "    </tr>\n",
              "    <tr>\n",
              "      <th>75%</th>\n",
              "      <td>9.200000</td>\n",
              "      <td>0.640000</td>\n",
              "      <td>0.430000</td>\n",
              "      <td>2.600000</td>\n",
              "      <td>0.091000</td>\n",
              "      <td>21.000000</td>\n",
              "      <td>63.000000</td>\n",
              "      <td>0.997820</td>\n",
              "      <td>3.400000</td>\n",
              "      <td>0.730000</td>\n",
              "      <td>11.100000</td>\n",
              "      <td>6.000000</td>\n",
              "      <td>1.0</td>\n",
              "    </tr>\n",
              "    <tr>\n",
              "      <th>max</th>\n",
              "      <td>15.900000</td>\n",
              "      <td>1.580000</td>\n",
              "      <td>1.000000</td>\n",
              "      <td>15.500000</td>\n",
              "      <td>0.611000</td>\n",
              "      <td>72.000000</td>\n",
              "      <td>289.000000</td>\n",
              "      <td>1.003690</td>\n",
              "      <td>4.010000</td>\n",
              "      <td>2.000000</td>\n",
              "      <td>14.900000</td>\n",
              "      <td>8.000000</td>\n",
              "      <td>1.0</td>\n",
              "    </tr>\n",
              "  </tbody>\n",
              "</table>\n",
              "</div>"
            ],
            "text/plain": [
              "       fixed acidity  volatile acidity  citric acid  residual sugar  \\\n",
              "count    1359.000000       1359.000000  1359.000000     1359.000000   \n",
              "mean        8.310596          0.529478     0.272333        2.523400   \n",
              "std         1.736990          0.183031     0.195537        1.352314   \n",
              "min         4.600000          0.120000     0.000000        0.900000   \n",
              "25%         7.100000          0.390000     0.090000        1.900000   \n",
              "50%         7.900000          0.520000     0.260000        2.200000   \n",
              "75%         9.200000          0.640000     0.430000        2.600000   \n",
              "max        15.900000          1.580000     1.000000       15.500000   \n",
              "\n",
              "         chlorides  free sulfur dioxide  total sulfur dioxide      density  \\\n",
              "count  1359.000000          1359.000000           1359.000000  1359.000000   \n",
              "mean      0.088124            15.893304             46.825975     0.996709   \n",
              "std       0.049377            10.447270             33.408946     0.001869   \n",
              "min       0.012000             1.000000              6.000000     0.990070   \n",
              "25%       0.070000             7.000000             22.000000     0.995600   \n",
              "50%       0.079000            14.000000             38.000000     0.996700   \n",
              "75%       0.091000            21.000000             63.000000     0.997820   \n",
              "max       0.611000            72.000000            289.000000     1.003690   \n",
              "\n",
              "                pH    sulphates      alcohol      quality  is_red  \n",
              "count  1359.000000  1359.000000  1359.000000  1359.000000  1359.0  \n",
              "mean      3.309787     0.658705    10.432315     5.623252     1.0  \n",
              "std       0.155036     0.170667     1.082065     0.823578     0.0  \n",
              "min       2.740000     0.330000     8.400000     3.000000     1.0  \n",
              "25%       3.210000     0.550000     9.500000     5.000000     1.0  \n",
              "50%       3.310000     0.620000    10.200000     6.000000     1.0  \n",
              "75%       3.400000     0.730000    11.100000     6.000000     1.0  \n",
              "max       4.010000     2.000000    14.900000     8.000000     1.0  "
            ]
          },
          "execution_count": 6,
          "metadata": {},
          "output_type": "execute_result"
        }
      ],
      "source": [
        "red_df.describe()"
      ]
    },
    {
      "cell_type": "code",
      "execution_count": null,
      "id": "1c8af780-75f0-4701-9d01-6fb54000fa48",
      "metadata": {
        "id": "1c8af780-75f0-4701-9d01-6fb54000fa48",
        "outputId": "4a7e515d-d598-4010-c9e0-f9b86e3ebd9f"
      },
      "outputs": [
        {
          "data": {
            "text/plain": [
              "<AxesSubplot:>"
            ]
          },
          "execution_count": 7,
          "metadata": {},
          "output_type": "execute_result"
        },
        {
          "data": {
            "image/png": "[encoded data removed]",
            "text/plain": [
              "<Figure size 432x288 with 1 Axes>"
            ]
          },
          "metadata": {
            "needs_background": "light"
          },
          "output_type": "display_data"
        }
      ],
      "source": [
        "df.quality.hist(bins=10)"
      ]
    },
    {
      "cell_type": "code",
      "execution_count": null,
      "id": "ddc9a7f8-2687-41e5-b71f-532f718213eb",
      "metadata": {
        "id": "ddc9a7f8-2687-41e5-b71f-532f718213eb",
        "outputId": "9d1c2a50-e263-4ba1-9f95-6750dd16a633"
      },
      "outputs": [
        {
          "data": {
            "text/plain": [
              "fixed acidity           0\n",
              "volatile acidity        0\n",
              "citric acid             0\n",
              "residual sugar          0\n",
              "chlorides               0\n",
              "free sulfur dioxide     0\n",
              "total sulfur dioxide    0\n",
              "density                 0\n",
              "pH                      0\n",
              "sulphates               0\n",
              "alcohol                 0\n",
              "quality                 0\n",
              "is_red                  0\n",
              "dtype: int64"
            ]
          },
          "execution_count": 8,
          "metadata": {},
          "output_type": "execute_result"
        }
      ],
      "source": [
        "df.isnull().sum()"
      ]
    },
    {
      "cell_type": "code",
      "execution_count": null,
      "id": "0a11f656-fed5-4bad-bae6-0f9f95792098",
      "metadata": {
        "id": "0a11f656-fed5-4bad-bae6-0f9f95792098",
        "outputId": "83694042-ef41-4cd0-d5cd-3f3a6cbdc2e5"
      },
      "outputs": [
        {
          "data": {
            "text/plain": [
              "Index(['fixed acidity', 'volatile acidity', 'citric acid', 'residual sugar',\n",
              "       'chlorides', 'free sulfur dioxide', 'total sulfur dioxide', 'density',\n",
              "       'pH', 'sulphates', 'alcohol', 'quality', 'is_red'],\n",
              "      dtype='object')"
            ]
          },
          "execution_count": 9,
          "metadata": {},
          "output_type": "execute_result"
        }
      ],
      "source": [
        "df.columns"
      ]
    },
    {
      "cell_type": "markdown",
      "id": "72a7d1a4-abe6-4f76-9257-b7b83c08734b",
      "metadata": {
        "id": "72a7d1a4-abe6-4f76-9257-b7b83c08734b"
      },
      "source": [
        "# Outlier Elimination"
      ]
    },
    {
      "cell_type": "code",
      "execution_count": null,
      "id": "7e638b33-c31b-4ba1-8a61-da5db71ede0f",
      "metadata": {
        "id": "7e638b33-c31b-4ba1-8a61-da5db71ede0f"
      },
      "outputs": [],
      "source": [
        "df = df[(df['quality'] > 4) & (df['quality'] < 8)]"
      ]
    },
    {
      "cell_type": "code",
      "execution_count": null,
      "id": "2a8cd5d5-d7a0-4c8a-a3fb-b6fdec2c2ae5",
      "metadata": {
        "id": "2a8cd5d5-d7a0-4c8a-a3fb-b6fdec2c2ae5",
        "outputId": "ba269e98-fbe5-4468-ecfd-949cfbc1023f"
      },
      "outputs": [
        {
          "data": {
            "text/plain": [
              "<AxesSubplot:>"
            ]
          },
          "execution_count": 11,
          "metadata": {},
          "output_type": "execute_result"
        },
        {
          "data": {
            "image/png": "[encoded data removed]",
            "text/plain": [
              "<Figure size 432x288 with 1 Axes>"
            ]
          },
          "metadata": {
            "needs_background": "light"
          },
          "output_type": "display_data"
        }
      ],
      "source": [
        "df.quality.hist(bins=10)"
      ]
    },
    {
      "cell_type": "markdown",
      "id": "beaea12b-10dd-43b5-9659-4f31e1267c61",
      "metadata": {
        "id": "beaea12b-10dd-43b5-9659-4f31e1267c61"
      },
      "source": [
        "# Train Test Split"
      ]
    },
    {
      "cell_type": "code",
      "execution_count": null,
      "id": "b07ed379-0204-4e5b-b36e-e3cfca783532",
      "metadata": {
        "id": "b07ed379-0204-4e5b-b36e-e3cfca783532"
      },
      "outputs": [],
      "source": [
        "# split df into 80:20 train and test sets\n",
        "train, test = train_test_split(df, test_size= 0.2, # YOUR CODE HERE\n",
        "                               random_state = 1)\n",
        "                               \n",
        "# split train into 80:20 train and val sets\n",
        "train, val = train_test_split(train, test_size= 0.2, # YOUR CODE HERE, \n",
        "                              random_state = 1)"
      ]
    },
    {
      "cell_type": "code",
      "execution_count": null,
      "id": "0bfb5ca2-7d23-4872-906e-01cf30d3851a",
      "metadata": {
        "id": "0bfb5ca2-7d23-4872-906e-01cf30d3851a",
        "outputId": "35b1721c-08ce-48e8-beea-bd339829a9e1"
      },
      "outputs": [
        {
          "data": {
            "text/html": [
              "<div>\n",
              "<style scoped>\n",
              "    .dataframe tbody tr th:only-of-type {\n",
              "        vertical-align: middle;\n",
              "    }\n",
              "\n",
              "    .dataframe tbody tr th {\n",
              "        vertical-align: top;\n",
              "    }\n",
              "\n",
              "    .dataframe thead th {\n",
              "        text-align: right;\n",
              "    }\n",
              "</style>\n",
              "<table border=\"1\" class=\"dataframe\">\n",
              "  <thead>\n",
              "    <tr style=\"text-align: right;\">\n",
              "      <th></th>\n",
              "      <th>fixed acidity</th>\n",
              "      <th>volatile acidity</th>\n",
              "      <th>citric acid</th>\n",
              "      <th>residual sugar</th>\n",
              "      <th>chlorides</th>\n",
              "      <th>free sulfur dioxide</th>\n",
              "      <th>total sulfur dioxide</th>\n",
              "      <th>density</th>\n",
              "      <th>pH</th>\n",
              "      <th>sulphates</th>\n",
              "      <th>alcohol</th>\n",
              "      <th>quality</th>\n",
              "      <th>is_red</th>\n",
              "    </tr>\n",
              "  </thead>\n",
              "  <tbody>\n",
              "    <tr>\n",
              "      <th>241</th>\n",
              "      <td>7.5</td>\n",
              "      <td>0.65</td>\n",
              "      <td>0.18</td>\n",
              "      <td>7.0</td>\n",
              "      <td>0.088</td>\n",
              "      <td>27.0</td>\n",
              "      <td>94.0</td>\n",
              "      <td>0.99915</td>\n",
              "      <td>3.38</td>\n",
              "      <td>0.77</td>\n",
              "      <td>9.4</td>\n",
              "      <td>5</td>\n",
              "      <td>1</td>\n",
              "    </tr>\n",
              "    <tr>\n",
              "      <th>3856</th>\n",
              "      <td>6.3</td>\n",
              "      <td>0.27</td>\n",
              "      <td>0.29</td>\n",
              "      <td>12.2</td>\n",
              "      <td>0.044</td>\n",
              "      <td>59.0</td>\n",
              "      <td>196.0</td>\n",
              "      <td>0.99782</td>\n",
              "      <td>3.14</td>\n",
              "      <td>0.40</td>\n",
              "      <td>8.8</td>\n",
              "      <td>6</td>\n",
              "      <td>0</td>\n",
              "    </tr>\n",
              "    <tr>\n",
              "      <th>4147</th>\n",
              "      <td>8.8</td>\n",
              "      <td>0.27</td>\n",
              "      <td>0.25</td>\n",
              "      <td>5.0</td>\n",
              "      <td>0.024</td>\n",
              "      <td>52.0</td>\n",
              "      <td>99.0</td>\n",
              "      <td>0.99250</td>\n",
              "      <td>2.87</td>\n",
              "      <td>0.49</td>\n",
              "      <td>11.4</td>\n",
              "      <td>5</td>\n",
              "      <td>0</td>\n",
              "    </tr>\n",
              "    <tr>\n",
              "      <th>1856</th>\n",
              "      <td>6.4</td>\n",
              "      <td>0.45</td>\n",
              "      <td>0.07</td>\n",
              "      <td>1.1</td>\n",
              "      <td>0.030</td>\n",
              "      <td>10.0</td>\n",
              "      <td>131.0</td>\n",
              "      <td>0.99050</td>\n",
              "      <td>2.97</td>\n",
              "      <td>0.28</td>\n",
              "      <td>10.8</td>\n",
              "      <td>5</td>\n",
              "      <td>0</td>\n",
              "    </tr>\n",
              "    <tr>\n",
              "      <th>1300</th>\n",
              "      <td>7.2</td>\n",
              "      <td>0.53</td>\n",
              "      <td>0.13</td>\n",
              "      <td>2.0</td>\n",
              "      <td>0.058</td>\n",
              "      <td>18.0</td>\n",
              "      <td>22.0</td>\n",
              "      <td>0.99573</td>\n",
              "      <td>3.21</td>\n",
              "      <td>0.68</td>\n",
              "      <td>9.9</td>\n",
              "      <td>6</td>\n",
              "      <td>1</td>\n",
              "    </tr>\n",
              "  </tbody>\n",
              "</table>\n",
              "</div>"
            ],
            "text/plain": [
              "      fixed acidity  volatile acidity  citric acid  residual sugar  chlorides  \\\n",
              "241             7.5              0.65         0.18             7.0      0.088   \n",
              "3856            6.3              0.27         0.29            12.2      0.044   \n",
              "4147            8.8              0.27         0.25             5.0      0.024   \n",
              "1856            6.4              0.45         0.07             1.1      0.030   \n",
              "1300            7.2              0.53         0.13             2.0      0.058   \n",
              "\n",
              "      free sulfur dioxide  total sulfur dioxide  density    pH  sulphates  \\\n",
              "241                  27.0                  94.0  0.99915  3.38       0.77   \n",
              "3856                 59.0                 196.0  0.99782  3.14       0.40   \n",
              "4147                 52.0                  99.0  0.99250  2.87       0.49   \n",
              "1856                 10.0                 131.0  0.99050  2.97       0.28   \n",
              "1300                 18.0                  22.0  0.99573  3.21       0.68   \n",
              "\n",
              "      alcohol  quality  is_red  \n",
              "241       9.4        5       1  \n",
              "3856      8.8        6       0  \n",
              "4147     11.4        5       0  \n",
              "1856     10.8        5       0  \n",
              "1300      9.9        6       1  "
            ]
          },
          "execution_count": 13,
          "metadata": {},
          "output_type": "execute_result"
        }
      ],
      "source": [
        "train.head()"
      ]
    },
    {
      "cell_type": "markdown",
      "id": "5a080226-51a4-45dc-8618-fc94ceebf676",
      "metadata": {
        "id": "5a080226-51a4-45dc-8618-fc94ceebf676"
      },
      "source": [
        "# Format Output"
      ]
    },
    {
      "cell_type": "code",
      "execution_count": null,
      "id": "428c5c80-09d8-4aa8-8184-c3190ba59124",
      "metadata": {
        "id": "428c5c80-09d8-4aa8-8184-c3190ba59124"
      },
      "outputs": [],
      "source": [
        "def format_target(data):\n",
        "    is_red = data.pop('is_red')\n",
        "    is_red = np.array(is_red)\n",
        "    quality = data.pop('quality')\n",
        "    quality = np.array(quality)\n",
        "    return (quality, is_red)"
      ]
    },
    {
      "cell_type": "code",
      "execution_count": null,
      "id": "8eabf067-4fba-4aef-ae36-fa00563d055f",
      "metadata": {
        "id": "8eabf067-4fba-4aef-ae36-fa00563d055f"
      },
      "outputs": [],
      "source": [
        "train_Y = format_target(train)\n",
        "val_Y = format_target(val)\n",
        "test_Y = format_target(test)"
      ]
    },
    {
      "cell_type": "code",
      "execution_count": null,
      "id": "89ccb94b-33d7-43aa-be21-1b7c6d1dd630",
      "metadata": {
        "id": "89ccb94b-33d7-43aa-be21-1b7c6d1dd630",
        "outputId": "b8e7d0cf-6ab3-423c-e0b5-ed4a9c60ebaf"
      },
      "outputs": [
        {
          "name": "stdout",
          "output_type": "stream",
          "text": [
            "(array([5, 6, 5, ..., 6, 5, 5], dtype=int64), array([1, 0, 0, ..., 1, 1, 0], dtype=int64))\n"
          ]
        }
      ],
      "source": [
        "print(train_Y)"
      ]
    },
    {
      "cell_type": "markdown",
      "id": "00d8fa51-f62d-4fa1-9b1c-ee83df373cbc",
      "metadata": {
        "id": "00d8fa51-f62d-4fa1-9b1c-ee83df373cbc"
      },
      "source": [
        "# Normalize Data"
      ]
    },
    {
      "cell_type": "code",
      "execution_count": null,
      "id": "a6cb39b7-c56a-4b12-aed8-37e17d479065",
      "metadata": {
        "id": "a6cb39b7-c56a-4b12-aed8-37e17d479065",
        "outputId": "52c57985-3e80-49c4-ec18-e3d2853f3c06"
      },
      "outputs": [
        {
          "name": "stdout",
          "output_type": "stream",
          "text": [
            "                   count      mean       std    min    25%    50%    75%  \\\n",
            "fixed acidity     3155.0  7.221616  1.325297  3.800  6.400  7.000  7.700   \n",
            "volatile acidity  3155.0  0.338929  0.162476  0.080  0.230  0.290  0.400   \n",
            "citric acid       3155.0  0.321569  0.147970  0.000  0.250  0.310  0.400   \n",
            "residual sugar    3155.0  5.155911  4.639632  0.600  1.800  2.800  7.650   \n",
            "chlorides         3155.0  0.056976  0.036802  0.012  0.038  0.047  0.066   \n",
            "\n",
            "                     max  \n",
            "fixed acidity     15.600  \n",
            "volatile acidity   1.240  \n",
            "citric acid        1.660  \n",
            "residual sugar    65.800  \n",
            "chlorides          0.611  \n",
            "Index(['fixed acidity', 'volatile acidity', 'citric acid', 'residual sugar',\n",
            "       'chlorides', 'free sulfur dioxide', 'total sulfur dioxide', 'density',\n",
            "       'pH', 'sulphates', 'alcohol'],\n",
            "      dtype='object')\n"
          ]
        }
      ],
      "source": [
        "train_stats = train.describe().T\n",
        "print(train_stats.head())\n",
        "print(train.columns)\n",
        "\n",
        "def norm(x):\n",
        "    return (x - train_stats['mean']) / train_stats['std']"
      ]
    },
    {
      "cell_type": "code",
      "execution_count": null,
      "id": "67f55787-1fbe-4f17-8abe-094ef06f0184",
      "metadata": {
        "id": "67f55787-1fbe-4f17-8abe-094ef06f0184"
      },
      "outputs": [],
      "source": [
        "norm_train_X = norm(train)\n",
        "    \n",
        "# normalize the val set\n",
        "norm_val_X = norm(val)\n",
        "    \n",
        "# normalize the test set\n",
        "norm_test_X = norm(test)"
      ]
    },
    {
      "cell_type": "markdown",
      "id": "1cdd6ae3-16c8-4293-8dda-4e6fe9e5dd12",
      "metadata": {
        "id": "1cdd6ae3-16c8-4293-8dda-4e6fe9e5dd12"
      },
      "source": [
        "# Define Model"
      ]
    },
    {
      "cell_type": "code",
      "execution_count": null,
      "id": "30d9fdc3-4640-480d-9ade-255413fcbf00",
      "metadata": {
        "id": "30d9fdc3-4640-480d-9ade-255413fcbf00",
        "outputId": "7e798fcd-eede-4893-b4e5-eb28b2d05015"
      },
      "outputs": [
        {
          "data": {
            "image/png": "[encoded data removed]",
            "text/plain": [
              "<IPython.core.display.Image object>"
            ]
          },
          "execution_count": 19,
          "metadata": {},
          "output_type": "execute_result"
        }
      ],
      "source": [
        "inputs = tf.keras.layers.Input(shape=(11,))\n",
        "dense_1 = Dense(128, activation='relu')(inputs)\n",
        "dense_2 = Dense(128, activation='relu')(dense_1)\n",
        "wine_quality = Dense(units='1', name='wine_quality')(dense_2)\n",
        "wine_type = Dense(units='1', activation= 'sigmoid',\n",
        "                      name='wine_type')(dense_2)\n",
        "\n",
        "model = Model(inputs=inputs, outputs=[wine_quality, wine_type])\n",
        "\n",
        "model._layers = [layer for layer in model._layers if isinstance (layer, Layer)]\n",
        "plot_model(model, show_shapes = True, show_layer_names = True)"
      ]
    },
    {
      "cell_type": "code",
      "execution_count": null,
      "id": "e805f969-b119-4103-8fd6-d222563d0ee5",
      "metadata": {
        "id": "e805f969-b119-4103-8fd6-d222563d0ee5"
      },
      "outputs": [],
      "source": [
        "def base_model(inputs):\n",
        "    \n",
        "    # connect a Dense layer with 128 neurons and a relu activation\n",
        "    x = Dense(128, activation='relu')(inputs) # YOUR CODE HERE\n",
        "    \n",
        "    # connect another Dense layer with 128 neurons and a relu activation\n",
        "    x = Dense(128, activation='relu')(x)# YOUR CODE HERE\n",
        "    return x\n",
        "\n",
        "\n",
        "def final_model(inputs):\n",
        "    \n",
        "    # get the base model\n",
        "    x = base_model(inputs)\n",
        "\n",
        "    # connect the output Dense layer for regression\n",
        "    wine_quality = Dense(units='1', name='wine_quality')(x)\n",
        "\n",
        "    # connect the output Dense layer for classification. this will use a sigmoid activation.\n",
        "    wine_type = Dense(units='1', activation= 'sigmoid', # YOUR CODE HERE, \n",
        "                      name='wine_type')(x)\n",
        "\n",
        "    # define the model using the input and output layers\n",
        "    model = Model(inputs=inputs, outputs=[wine_quality, wine_type]) # YOUR CODE HERE, outputs=# YOUR CODE HERE)\n",
        "\n",
        "    return model"
      ]
    },
    {
      "cell_type": "code",
      "execution_count": null,
      "id": "4d3f043f-c128-4962-a84a-815e46ca173b",
      "metadata": {
        "id": "4d3f043f-c128-4962-a84a-815e46ca173b",
        "outputId": "cb6ee8e4-630f-474e-f8ee-b07a44b4d47e"
      },
      "outputs": [
        {
          "data": {
            "image/png": "[encoded data removed]",
            "text/plain": [
              "<IPython.core.display.Image object>"
            ]
          },
          "execution_count": 21,
          "metadata": {},
          "output_type": "execute_result"
        }
      ],
      "source": [
        "inputs = tf.keras.layers.Input(shape=(11,))\n",
        "\n",
        "model = final_model(inputs)\n",
        "model._layers = [layer for layer in model._layers if isinstance (layer, Layer)]\n",
        "plot_model(model, show_shapes = True, show_layer_names = True)"
      ]
    },
    {
      "cell_type": "code",
      "execution_count": null,
      "id": "e5877c62-7756-4574-818c-325afb0f7e00",
      "metadata": {
        "id": "e5877c62-7756-4574-818c-325afb0f7e00",
        "outputId": "66798b17-7267-41be-b8ed-2e1074613e9e"
      },
      "outputs": [
        {
          "name": "stdout",
          "output_type": "stream",
          "text": [
            "Epoch 1/40\n",
            "99/99 [==============================] - 5s 30ms/step - loss: 27.6801 - wine_quality_loss: 27.1136 - wine_type_loss: 0.5665 - wine_quality_root_mean_squared_error: 5.2021 - wine_type_accuracy: 0.9027 - val_loss: 16.8929 - val_wine_quality_loss: 16.3590 - val_wine_type_loss: 0.5339 - val_wine_quality_root_mean_squared_error: 4.0446 - val_wine_type_accuracy: 0.8302\n",
            "Epoch 2/40\n",
            "99/99 [==============================] - 1s 9ms/step - loss: 13.7459 - wine_quality_loss: 13.2322 - wine_type_loss: 0.5137 - wine_quality_root_mean_squared_error: 3.6290 - wine_type_accuracy: 0.8206 - val_loss: 6.1088 - val_wine_quality_loss: 5.6339 - val_wine_type_loss: 0.4749 - val_wine_quality_root_mean_squared_error: 2.3736 - val_wine_type_accuracy: 0.7744\n",
            "Epoch 3/40\n",
            "99/99 [==============================] - 1s 9ms/step - loss: 4.7226 - wine_quality_loss: 4.2819 - wine_type_loss: 0.4407 - wine_quality_root_mean_squared_error: 2.0666 - wine_type_accuracy: 0.7872 - val_loss: 2.9873 - val_wine_quality_loss: 2.6028 - val_wine_type_loss: 0.3845 - val_wine_quality_root_mean_squared_error: 1.6133 - val_wine_type_accuracy: 0.8200\n",
            "Epoch 4/40\n",
            "99/99 [==============================] - 1s 9ms/step - loss: 2.6564 - wine_quality_loss: 2.2997 - wine_type_loss: 0.3568 - wine_quality_root_mean_squared_error: 1.5160 - wine_type_accuracy: 0.8579 - val_loss: 2.3733 - val_wine_quality_loss: 2.0747 - val_wine_type_loss: 0.2987 - val_wine_quality_root_mean_squared_error: 1.4404 - val_wine_type_accuracy: 0.9227\n",
            "Epoch 5/40\n",
            "99/99 [==============================] - 1s 9ms/step - loss: 2.3649 - wine_quality_loss: 2.0906 - wine_type_loss: 0.2743 - wine_quality_root_mean_squared_error: 1.4449 - wine_type_accuracy: 0.9438 - val_loss: 2.0032 - val_wine_quality_loss: 1.7725 - val_wine_type_loss: 0.2307 - val_wine_quality_root_mean_squared_error: 1.3314 - val_wine_type_accuracy: 0.9645\n",
            "Epoch 6/40\n",
            "99/99 [==============================] - 1s 9ms/step - loss: 2.2672 - wine_quality_loss: 2.0607 - wine_type_loss: 0.2066 - wine_quality_root_mean_squared_error: 1.4298 - wine_type_accuracy: 0.9695 - val_loss: 1.7435 - val_wine_quality_loss: 1.5643 - val_wine_type_loss: 0.1792 - val_wine_quality_root_mean_squared_error: 1.2507 - val_wine_type_accuracy: 0.9810\n",
            "Epoch 7/40\n",
            "99/99 [==============================] - 1s 10ms/step - loss: 1.7108 - wine_quality_loss: 1.5483 - wine_type_loss: 0.1625 - wine_quality_root_mean_squared_error: 1.2441 - wine_type_accuracy: 0.9816 - val_loss: 1.5560 - val_wine_quality_loss: 1.4141 - val_wine_type_loss: 0.1419 - val_wine_quality_root_mean_squared_error: 1.1891 - val_wine_type_accuracy: 0.9861\n",
            "Epoch 8/40\n",
            "99/99 [==============================] - 1s 11ms/step - loss: 1.5367 - wine_quality_loss: 1.4028 - wine_type_loss: 0.1338 - wine_quality_root_mean_squared_error: 1.1842 - wine_type_accuracy: 0.9849 - val_loss: 1.4235 - val_wine_quality_loss: 1.3076 - val_wine_type_loss: 0.1159 - val_wine_quality_root_mean_squared_error: 1.1435 - val_wine_type_accuracy: 0.9873\n",
            "Epoch 9/40\n",
            "99/99 [==============================] - 1s 10ms/step - loss: 1.4342 - wine_quality_loss: 1.3314 - wine_type_loss: 0.1027 - wine_quality_root_mean_squared_error: 1.1536 - wine_type_accuracy: 0.9907 - val_loss: 1.2992 - val_wine_quality_loss: 1.2026 - val_wine_type_loss: 0.0966 - val_wine_quality_root_mean_squared_error: 1.0966 - val_wine_type_accuracy: 0.9873\n",
            "Epoch 10/40\n",
            "99/99 [==============================] - 1s 10ms/step - loss: 1.3319 - wine_quality_loss: 1.2320 - wine_type_loss: 0.0998 - wine_quality_root_mean_squared_error: 1.1095 - wine_type_accuracy: 0.9859 - val_loss: 1.2127 - val_wine_quality_loss: 1.1302 - val_wine_type_loss: 0.0824 - val_wine_quality_root_mean_squared_error: 1.0631 - val_wine_type_accuracy: 0.9886\n",
            "Epoch 11/40\n",
            "99/99 [==============================] - 1s 9ms/step - loss: 1.1801 - wine_quality_loss: 1.0963 - wine_type_loss: 0.0838 - wine_quality_root_mean_squared_error: 1.0469 - wine_type_accuracy: 0.9878 - val_loss: 1.1137 - val_wine_quality_loss: 1.0421 - val_wine_type_loss: 0.0716 - val_wine_quality_root_mean_squared_error: 1.0208 - val_wine_type_accuracy: 0.9886\n",
            "Epoch 12/40\n",
            "99/99 [==============================] - 1s 9ms/step - loss: 1.2141 - wine_quality_loss: 1.1399 - wine_type_loss: 0.0742 - wine_quality_root_mean_squared_error: 1.0663 - wine_type_accuracy: 0.9880 - val_loss: 1.0455 - val_wine_quality_loss: 0.9813 - val_wine_type_loss: 0.0642 - val_wine_quality_root_mean_squared_error: 0.9906 - val_wine_type_accuracy: 0.9886\n",
            "Epoch 13/40\n",
            "99/99 [==============================] - 1s 9ms/step - loss: 1.0883 - wine_quality_loss: 1.0232 - wine_type_loss: 0.0651 - wine_quality_root_mean_squared_error: 1.0106 - wine_type_accuracy: 0.9860 - val_loss: 0.9690 - val_wine_quality_loss: 0.9105 - val_wine_type_loss: 0.0585 - val_wine_quality_root_mean_squared_error: 0.9542 - val_wine_type_accuracy: 0.9899\n",
            "Epoch 14/40\n",
            "99/99 [==============================] - 1s 9ms/step - loss: 0.9926 - wine_quality_loss: 0.9291 - wine_type_loss: 0.0636 - wine_quality_root_mean_squared_error: 0.9637 - wine_type_accuracy: 0.9876 - val_loss: 0.9170 - val_wine_quality_loss: 0.8632 - val_wine_type_loss: 0.0538 - val_wine_quality_root_mean_squared_error: 0.9291 - val_wine_type_accuracy: 0.9899\n",
            "Epoch 15/40\n",
            "99/99 [==============================] - 1s 10ms/step - loss: 0.9411 - wine_quality_loss: 0.8837 - wine_type_loss: 0.0573 - wine_quality_root_mean_squared_error: 0.9399 - wine_type_accuracy: 0.9862 - val_loss: 0.8646 - val_wine_quality_loss: 0.8143 - val_wine_type_loss: 0.0504 - val_wine_quality_root_mean_squared_error: 0.9024 - val_wine_type_accuracy: 0.9911\n",
            "Epoch 16/40\n",
            "99/99 [==============================] - 1s 9ms/step - loss: 0.8488 - wine_quality_loss: 0.8021 - wine_type_loss: 0.0467 - wine_quality_root_mean_squared_error: 0.8953 - wine_type_accuracy: 0.9908 - val_loss: 0.8178 - val_wine_quality_loss: 0.7704 - val_wine_type_loss: 0.0474 - val_wine_quality_root_mean_squared_error: 0.8777 - val_wine_type_accuracy: 0.9924\n",
            "Epoch 17/40\n",
            "99/99 [==============================] - 1s 9ms/step - loss: 0.8044 - wine_quality_loss: 0.7541 - wine_type_loss: 0.0503 - wine_quality_root_mean_squared_error: 0.8681 - wine_type_accuracy: 0.9899 - val_loss: 0.7666 - val_wine_quality_loss: 0.7212 - val_wine_type_loss: 0.0454 - val_wine_quality_root_mean_squared_error: 0.8492 - val_wine_type_accuracy: 0.9924\n",
            "Epoch 18/40\n",
            "99/99 [==============================] - 1s 9ms/step - loss: 0.7205 - wine_quality_loss: 0.6612 - wine_type_loss: 0.0594 - wine_quality_root_mean_squared_error: 0.8125 - wine_type_accuracy: 0.9877 - val_loss: 0.7299 - val_wine_quality_loss: 0.6864 - val_wine_type_loss: 0.0435 - val_wine_quality_root_mean_squared_error: 0.8285 - val_wine_type_accuracy: 0.9924\n",
            "Epoch 19/40\n",
            "99/99 [==============================] - 1s 9ms/step - loss: 0.7351 - wine_quality_loss: 0.6968 - wine_type_loss: 0.0383 - wine_quality_root_mean_squared_error: 0.8343 - wine_type_accuracy: 0.9924 - val_loss: 0.6840 - val_wine_quality_loss: 0.6419 - val_wine_type_loss: 0.0420 - val_wine_quality_root_mean_squared_error: 0.8012 - val_wine_type_accuracy: 0.9911\n",
            "Epoch 20/40\n",
            "99/99 [==============================] - 1s 10ms/step - loss: 0.6683 - wine_quality_loss: 0.6304 - wine_type_loss: 0.0379 - wine_quality_root_mean_squared_error: 0.7939 - wine_type_accuracy: 0.9898 - val_loss: 0.6469 - val_wine_quality_loss: 0.6061 - val_wine_type_loss: 0.0408 - val_wine_quality_root_mean_squared_error: 0.7785 - val_wine_type_accuracy: 0.9911\n",
            "Epoch 21/40\n",
            "99/99 [==============================] - 1s 10ms/step - loss: 0.7110 - wine_quality_loss: 0.6669 - wine_type_loss: 0.0441 - wine_quality_root_mean_squared_error: 0.8157 - wine_type_accuracy: 0.9907 - val_loss: 0.6293 - val_wine_quality_loss: 0.5895 - val_wine_type_loss: 0.0398 - val_wine_quality_root_mean_squared_error: 0.7678 - val_wine_type_accuracy: 0.9911\n",
            "Epoch 22/40\n",
            "99/99 [==============================] - 1s 9ms/step - loss: 0.6272 - wine_quality_loss: 0.5861 - wine_type_loss: 0.0412 - wine_quality_root_mean_squared_error: 0.7654 - wine_type_accuracy: 0.9923 - val_loss: 0.5920 - val_wine_quality_loss: 0.5529 - val_wine_type_loss: 0.0391 - val_wine_quality_root_mean_squared_error: 0.7436 - val_wine_type_accuracy: 0.9911\n",
            "Epoch 23/40\n",
            "99/99 [==============================] - 1s 9ms/step - loss: 0.5728 - wine_quality_loss: 0.5317 - wine_type_loss: 0.0411 - wine_quality_root_mean_squared_error: 0.7289 - wine_type_accuracy: 0.9895 - val_loss: 0.5632 - val_wine_quality_loss: 0.5250 - val_wine_type_loss: 0.0381 - val_wine_quality_root_mean_squared_error: 0.7246 - val_wine_type_accuracy: 0.9911\n",
            "Epoch 24/40\n",
            "99/99 [==============================] - 1s 9ms/step - loss: 0.5731 - wine_quality_loss: 0.5333 - wine_type_loss: 0.0398 - wine_quality_root_mean_squared_error: 0.7298 - wine_type_accuracy: 0.9918 - val_loss: 0.5376 - val_wine_quality_loss: 0.5001 - val_wine_type_loss: 0.0375 - val_wine_quality_root_mean_squared_error: 0.7072 - val_wine_type_accuracy: 0.9911\n",
            "Epoch 25/40\n",
            "99/99 [==============================] - 1s 9ms/step - loss: 0.5500 - wine_quality_loss: 0.5107 - wine_type_loss: 0.0394 - wine_quality_root_mean_squared_error: 0.7145 - wine_type_accuracy: 0.9912 - val_loss: 0.5195 - val_wine_quality_loss: 0.4824 - val_wine_type_loss: 0.0371 - val_wine_quality_root_mean_squared_error: 0.6946 - val_wine_type_accuracy: 0.9911\n",
            "Epoch 26/40\n",
            "99/99 [==============================] - 1s 9ms/step - loss: 0.4989 - wine_quality_loss: 0.4728 - wine_type_loss: 0.0262 - wine_quality_root_mean_squared_error: 0.6872 - wine_type_accuracy: 0.9949 - val_loss: 0.4970 - val_wine_quality_loss: 0.4605 - val_wine_type_loss: 0.0365 - val_wine_quality_root_mean_squared_error: 0.6786 - val_wine_type_accuracy: 0.9911\n",
            "Epoch 27/40\n",
            "99/99 [==============================] - 1s 9ms/step - loss: 0.5098 - wine_quality_loss: 0.4739 - wine_type_loss: 0.0359 - wine_quality_root_mean_squared_error: 0.6883 - wine_type_accuracy: 0.9935 - val_loss: 0.4897 - val_wine_quality_loss: 0.4537 - val_wine_type_loss: 0.0360 - val_wine_quality_root_mean_squared_error: 0.6736 - val_wine_type_accuracy: 0.9911\n",
            "Epoch 28/40\n",
            "99/99 [==============================] - 1s 9ms/step - loss: 0.4801 - wine_quality_loss: 0.4468 - wine_type_loss: 0.0333 - wine_quality_root_mean_squared_error: 0.6682 - wine_type_accuracy: 0.9927 - val_loss: 0.4715 - val_wine_quality_loss: 0.4360 - val_wine_type_loss: 0.0355 - val_wine_quality_root_mean_squared_error: 0.6603 - val_wine_type_accuracy: 0.9911\n",
            "Epoch 29/40\n",
            "99/99 [==============================] - 1s 9ms/step - loss: 0.4661 - wine_quality_loss: 0.4311 - wine_type_loss: 0.0350 - wine_quality_root_mean_squared_error: 0.6564 - wine_type_accuracy: 0.9930 - val_loss: 0.4545 - val_wine_quality_loss: 0.4194 - val_wine_type_loss: 0.0352 - val_wine_quality_root_mean_squared_error: 0.6476 - val_wine_type_accuracy: 0.9911\n",
            "Epoch 30/40\n",
            "99/99 [==============================] - 1s 9ms/step - loss: 0.4470 - wine_quality_loss: 0.4134 - wine_type_loss: 0.0335 - wine_quality_root_mean_squared_error: 0.6428 - wine_type_accuracy: 0.9919 - val_loss: 0.4483 - val_wine_quality_loss: 0.4135 - val_wine_type_loss: 0.0348 - val_wine_quality_root_mean_squared_error: 0.6430 - val_wine_type_accuracy: 0.9911\n",
            "Epoch 31/40\n",
            "99/99 [==============================] - 1s 10ms/step - loss: 0.4607 - wine_quality_loss: 0.4173 - wine_type_loss: 0.0434 - wine_quality_root_mean_squared_error: 0.6459 - wine_type_accuracy: 0.9912 - val_loss: 0.4311 - val_wine_quality_loss: 0.3966 - val_wine_type_loss: 0.0346 - val_wine_quality_root_mean_squared_error: 0.6297 - val_wine_type_accuracy: 0.9911\n",
            "Epoch 32/40\n",
            "99/99 [==============================] - 1s 9ms/step - loss: 0.4394 - wine_quality_loss: 0.4040 - wine_type_loss: 0.0354 - wine_quality_root_mean_squared_error: 0.6355 - wine_type_accuracy: 0.9933 - val_loss: 0.4269 - val_wine_quality_loss: 0.3928 - val_wine_type_loss: 0.0342 - val_wine_quality_root_mean_squared_error: 0.6267 - val_wine_type_accuracy: 0.9924\n",
            "Epoch 33/40\n",
            "99/99 [==============================] - 1s 9ms/step - loss: 0.4153 - wine_quality_loss: 0.3877 - wine_type_loss: 0.0277 - wine_quality_root_mean_squared_error: 0.6226 - wine_type_accuracy: 0.9954 - val_loss: 0.4179 - val_wine_quality_loss: 0.3840 - val_wine_type_loss: 0.0339 - val_wine_quality_root_mean_squared_error: 0.6197 - val_wine_type_accuracy: 0.9924\n",
            "Epoch 34/40\n",
            "99/99 [==============================] - 1s 9ms/step - loss: 0.4078 - wine_quality_loss: 0.3857 - wine_type_loss: 0.0221 - wine_quality_root_mean_squared_error: 0.6209 - wine_type_accuracy: 0.9956 - val_loss: 0.4207 - val_wine_quality_loss: 0.3872 - val_wine_type_loss: 0.0335 - val_wine_quality_root_mean_squared_error: 0.6223 - val_wine_type_accuracy: 0.9924\n",
            "Epoch 35/40\n",
            "99/99 [==============================] - 1s 10ms/step - loss: 0.4129 - wine_quality_loss: 0.3839 - wine_type_loss: 0.0290 - wine_quality_root_mean_squared_error: 0.6192 - wine_type_accuracy: 0.9938 - val_loss: 0.4019 - val_wine_quality_loss: 0.3687 - val_wine_type_loss: 0.0332 - val_wine_quality_root_mean_squared_error: 0.6072 - val_wine_type_accuracy: 0.9924\n",
            "Epoch 36/40\n",
            "99/99 [==============================] - 1s 9ms/step - loss: 0.4094 - wine_quality_loss: 0.3797 - wine_type_loss: 0.0297 - wine_quality_root_mean_squared_error: 0.6161 - wine_type_accuracy: 0.9945 - val_loss: 0.4039 - val_wine_quality_loss: 0.3710 - val_wine_type_loss: 0.0329 - val_wine_quality_root_mean_squared_error: 0.6091 - val_wine_type_accuracy: 0.9924\n",
            "Epoch 37/40\n",
            "99/99 [==============================] - 1s 9ms/step - loss: 0.3868 - wine_quality_loss: 0.3589 - wine_type_loss: 0.0279 - wine_quality_root_mean_squared_error: 0.5990 - wine_type_accuracy: 0.9955 - val_loss: 0.3922 - val_wine_quality_loss: 0.3595 - val_wine_type_loss: 0.0327 - val_wine_quality_root_mean_squared_error: 0.5996 - val_wine_type_accuracy: 0.9924\n",
            "Epoch 38/40\n",
            "99/99 [==============================] - 1s 9ms/step - loss: 0.3747 - wine_quality_loss: 0.3414 - wine_type_loss: 0.0333 - wine_quality_root_mean_squared_error: 0.5839 - wine_type_accuracy: 0.9931 - val_loss: 0.3856 - val_wine_quality_loss: 0.3530 - val_wine_type_loss: 0.0325 - val_wine_quality_root_mean_squared_error: 0.5942 - val_wine_type_accuracy: 0.9924\n",
            "Epoch 39/40\n",
            "99/99 [==============================] - 1s 9ms/step - loss: 0.3754 - wine_quality_loss: 0.3461 - wine_type_loss: 0.0293 - wine_quality_root_mean_squared_error: 0.5881 - wine_type_accuracy: 0.9925 - val_loss: 0.3843 - val_wine_quality_loss: 0.3520 - val_wine_type_loss: 0.0323 - val_wine_quality_root_mean_squared_error: 0.5933 - val_wine_type_accuracy: 0.9924\n",
            "Epoch 40/40\n",
            "99/99 [==============================] - 1s 10ms/step - loss: 0.3805 - wine_quality_loss: 0.3578 - wine_type_loss: 0.0228 - wine_quality_root_mean_squared_error: 0.5979 - wine_type_accuracy: 0.9935 - val_loss: 0.3830 - val_wine_quality_loss: 0.3510 - val_wine_type_loss: 0.0321 - val_wine_quality_root_mean_squared_error: 0.5924 - val_wine_type_accuracy: 0.9924\n"
          ]
        }
      ],
      "source": [
        "\n",
        "model.compile(optimizer=tf.keras.optimizers.RMSprop(lr=0.0001), \n",
        "              loss = {'wine_type' : \"binary_crossentropy\", # YOUR CODE HERE,\n",
        "                      'wine_quality' : 'mse' # YOUR CODE HERE\n",
        "                     },\n",
        "              metrics = {'wine_type' : 'accuracy', # YOUR CODE HERE,\n",
        "                         'wine_quality' : tf.keras.metrics.RootMeanSquaredError() # YOUR CODE HERE\n",
        "                       }\n",
        "             )\n",
        "\n",
        "history = model.fit(norm_train_X, train_Y, # YOUR CODE HERE, # YOUR CODE HERE,\n",
        "                    epochs = 40, validation_data=(norm_val_X, val_Y)) # YOUR CODE HERE, # YOUR CODE HERE))"
      ]
    },
    {
      "cell_type": "markdown",
      "id": "bb1ed5ae-937d-4a30-9496-7f3ec298f142",
      "metadata": {
        "id": "bb1ed5ae-937d-4a30-9496-7f3ec298f142"
      },
      "source": [
        "# Evaluate Results"
      ]
    },
    {
      "cell_type": "code",
      "execution_count": null,
      "id": "0a789815-b478-484b-b0ff-c3c5d90f813f",
      "metadata": {
        "id": "0a789815-b478-484b-b0ff-c3c5d90f813f",
        "outputId": "1d16cc03-b55f-4f50-a261-d39d104fb8c2"
      },
      "outputs": [
        {
          "name": "stdout",
          "output_type": "stream",
          "text": [
            "[[5.5843687]\n",
            " [5.6964173]\n",
            " [6.807561 ]\n",
            " [5.288986 ]\n",
            " [5.679747 ]\n",
            " [5.3691697]\n",
            " [6.1259103]\n",
            " [6.717866 ]\n",
            " [6.2605495]\n",
            " [5.805866 ]]\n",
            "[[3.8338038e-03]\n",
            " [4.6930986e-04]\n",
            " [9.9806482e-01]\n",
            " [2.3559557e-02]\n",
            " [5.5550802e-03]\n",
            " [2.6000370e-04]\n",
            " [9.9995232e-01]\n",
            " [2.0484913e-03]\n",
            " [3.0384425e-02]\n",
            " [1.3009401e-03]]\n"
          ]
        }
      ],
      "source": [
        "predictions = model.predict(norm_test_X)\n",
        "quality_pred = predictions[0]\n",
        "type_pred = predictions[1]\n",
        " \n",
        "len(predictions)\n",
        "print(predictions[0][:10])\n",
        "print(predictions[1][:10])"
      ]
    },
    {
      "cell_type": "code",
      "execution_count": null,
      "id": "6ba8efad-58e6-4171-8cf2-6afa86c0de70",
      "metadata": {
        "id": "6ba8efad-58e6-4171-8cf2-6afa86c0de70"
      },
      "outputs": [],
      "source": [
        "def plot_metrics(metric_name, title, ylim=5):\n",
        "    plt.title(title)\n",
        "    plt.ylim(0,ylim)\n",
        "    plt.plot(history.history[metric_name],color='blue',label=metric_name)\n",
        "    plt.plot(history.history['val_' + metric_name],color='green',label='val_' + metric_name)\n",
        "    plt.legend()\n",
        "    plt.show()"
      ]
    },
    {
      "cell_type": "code",
      "execution_count": null,
      "id": "6a2a0103-dd30-443a-a517-ef8d27b00beb",
      "metadata": {
        "id": "6a2a0103-dd30-443a-a517-ef8d27b00beb"
      },
      "outputs": [],
      "source": [
        "def plot_confusion_matrix(y_true, y_pred, title='', labels=[0,1]):\n",
        "    cm = confusion_matrix(y_true, y_pred)\n",
        "    fig = plt.figure()\n",
        "    ax = fig.add_subplot(111)\n",
        "    cax = ax.matshow(cm)\n",
        "    plt.title('Confusion matrix of the classifier')\n",
        "    fig.colorbar(cax)\n",
        "    ax.set_xticklabels([''] + labels)\n",
        "    ax.set_yticklabels([''] + labels)\n",
        "    plt.xlabel('Predicted')\n",
        "    plt.ylabel('True')\n",
        "    fmt = 'd'\n",
        "    thresh = cm.max() / 2.\n",
        "    for i, j in itertools.product(range(cm.shape[0]), range(cm.shape[1])):\n",
        "          plt.text(j, i, format(cm[i, j], fmt),\n",
        "                  horizontalalignment=\"center\",\n",
        "                  color=\"black\" if cm[i, j] > thresh else \"white\")\n",
        "    plt.show()"
      ]
    },
    {
      "cell_type": "code",
      "execution_count": null,
      "id": "50703b02-0057-4cb0-a1c2-c5cfcbd654ca",
      "metadata": {
        "id": "50703b02-0057-4cb0-a1c2-c5cfcbd654ca",
        "outputId": "71cb9e75-47da-466b-9a69-4dbed7241603"
      },
      "outputs": [
        {
          "name": "stderr",
          "output_type": "stream",
          "text": [
            "<ipython-input-24-47bb6e202cb0>:8: UserWarning: FixedFormatter should only be used together with FixedLocator\n",
            "  ax.set_xticklabels([''] + labels)\n",
            "<ipython-input-24-47bb6e202cb0>:9: UserWarning: FixedFormatter should only be used together with FixedLocator\n",
            "  ax.set_yticklabels([''] + labels)\n"
          ]
        },
        {
          "data": {
            "image/png": "[encoded data removed]",
            "text/plain": [
              "<Figure size 432x288 with 2 Axes>"
            ]
          },
          "metadata": {
            "needs_background": "light"
          },
          "output_type": "display_data"
        }
      ],
      "source": [
        "plot_confusion_matrix(test_Y[1], \n",
        "                      np.round(type_pred), \n",
        "                      title='Wine Type', \n",
        "                      labels = [0, 1])"
      ]
    },
    {
      "cell_type": "code",
      "execution_count": null,
      "id": "edb1d965-108e-4c82-8684-e10bf7575563",
      "metadata": {
        "id": "edb1d965-108e-4c82-8684-e10bf7575563",
        "outputId": "c9f92018-33dc-4cc6-af98-b8d6390b1a1c"
      },
      "outputs": [
        {
          "data": {
            "image/png": "[encoded data removed]",
            "text/plain": [
              "<Figure size 432x288 with 1 Axes>"
            ]
          },
          "metadata": {
            "needs_background": "light"
          },
          "output_type": "display_data"
        }
      ],
      "source": [
        "plot_metrics('wine_quality_root_mean_squared_error', 'RMSE', ylim=2)"
      ]
    },
    {
      "cell_type": "code",
      "execution_count": null,
      "id": "bc85a743-2a91-46d1-8cf0-51408bef35b5",
      "metadata": {
        "id": "bc85a743-2a91-46d1-8cf0-51408bef35b5",
        "outputId": "3e82f37f-972a-4473-d83d-25070e3bacc5"
      },
      "outputs": [
        {
          "data": {
            "image/png": "[encoded data removed]",
            "text/plain": [
              "<Figure size 432x288 with 1 Axes>"
            ]
          },
          "metadata": {
            "needs_background": "light"
          },
          "output_type": "display_data"
        }
      ],
      "source": [
        "plot_metrics('wine_type_loss', 'Wine Type Loss', ylim=0.2)"
      ]
    }
  ],
  "metadata": {
    "kernelspec": {
      "display_name": "Python 3",
      "language": "python",
      "name": "python3"
    },
    "language_info": {
      "codemirror_mode": {
        "name": "ipython",
        "version": 3
      },
      "file_extension": ".py",
      "mimetype": "text/x-python",
      "name": "python",
      "nbconvert_exporter": "python",
      "pygments_lexer": "ipython3",
      "version": "3.8.5"
    },
    "colab": {
      "provenance": [],
      "include_colab_link": true
    }
  },
  "nbformat": 4,
  "nbformat_minor": 5
}