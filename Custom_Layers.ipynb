{
  "cells": [
    {
      "cell_type": "markdown",
      "metadata": {
        "id": "view-in-github",
        "colab_type": "text"
      },
      "source": [
        "<a href=\"https://colab.research.google.com/github/pelinbalci/TF_Custom_Models/blob/main/Custom_Layers.ipynb\" target=\"_parent\"><img src=\"https://colab.research.google.com/assets/colab-badge.svg\" alt=\"Open In Colab\"/></a>"
      ]
    },
    {
      "cell_type": "markdown",
      "id": "f3e54025-be87-453a-bc4d-8fc7027b8c7c",
      "metadata": {
        "id": "f3e54025-be87-453a-bc4d-8fc7027b8c7c"
      },
      "source": [
        "# Custom Layers"
      ]
    },
    {
      "cell_type": "markdown",
      "source": [
        "This notebook includes the following topics:\n",
        "\n",
        "- Sequential & Functional API\n",
        "- Add Lamba Layer \n",
        "- Write a function for lambda layer\n",
        "- Add parameters to the function for lambda layer\n",
        "- Define custom loss\n",
        "- Add parameters to loss function\n",
        "- Write loss function as a class\n",
        "- Create custom dense layer"
      ],
      "metadata": {
        "id": "LizHJPOgdWJt"
      },
      "id": "LizHJPOgdWJt"
    },
    {
      "cell_type": "code",
      "execution_count": null,
      "id": "f03e3120-3554-4be5-b9ff-3ab4290a0253",
      "metadata": {
        "id": "f03e3120-3554-4be5-b9ff-3ab4290a0253"
      },
      "outputs": [],
      "source": [
        "try:\n",
        "  # %tensorflow_version only exists in Colab.\n",
        "  %tensorflow_version 2.x\n",
        "except Exception:\n",
        "  pass\n",
        "\n",
        "import numpy as np\n",
        "import tensorflow as tf\n",
        "from tensorflow.keras import backend as K\n",
        "from matplotlib import pyplot as plt\n",
        "\n",
        "# Visualize model\n",
        "from tensorflow.keras.layers import Layer\n",
        "from tensorflow.python.keras.utils.vis_utils import pydot\n",
        "from tensorflow.python.keras.utils.vis_utils import plot_model\n",
        "\n",
        "# Function API\n",
        "from tensorflow.keras.models import Model\n",
        "\n",
        "# Error : Function call stack:train_function\n",
        "# https://github.com/tensorflow/tensorflow/issues/43174\n",
        "from tensorflow.compat.v1 import ConfigProto\n",
        "from tensorflow.compat.v1 import InteractiveSession\n",
        "\n",
        "config = ConfigProto()\n",
        "config.gpu_options.allow_growth = True\n",
        "session = InteractiveSession(config=config)"
      ]
    },
    {
      "cell_type": "markdown",
      "id": "9772f77f-f5e0-4424-844d-b173024e9b64",
      "metadata": {
        "id": "9772f77f-f5e0-4424-844d-b173024e9b64"
      },
      "source": [
        "## Load Mnist Data"
      ]
    },
    {
      "cell_type": "code",
      "execution_count": null,
      "id": "fbaf68b2-0b52-4d21-950b-e6ad392dfc38",
      "metadata": {
        "id": "fbaf68b2-0b52-4d21-950b-e6ad392dfc38",
        "outputId": "040aed7e-488a-4204-c2c1-fb4b69fad816"
      },
      "outputs": [
        {
          "data": {
            "text/plain": [
              "<matplotlib.image.AxesImage at 0x13384225bb0>"
            ]
          },
          "execution_count": 2,
          "metadata": {},
          "output_type": "execute_result"
        },
        {
          "data": {
            "image/png": "[encoded data removed]",
            "text/plain": [
              "<Figure size 432x288 with 1 Axes>"
            ]
          },
          "metadata": {
            "needs_background": "light"
          },
          "output_type": "display_data"
        }
      ],
      "source": [
        "mnist_data = tf.keras.datasets.mnist \n",
        "\n",
        "(x_train, y_train), (x_test, y_test) = mnist_data.load_data()\n",
        "\n",
        "# example\n",
        "first_array = x_train[0]\n",
        "plt.imshow(first_array)"
      ]
    },
    {
      "cell_type": "markdown",
      "id": "ca3460d4-20e6-4840-8bed-6093f4cc5c1a",
      "metadata": {
        "id": "ca3460d4-20e6-4840-8bed-6093f4cc5c1a"
      },
      "source": [
        "## Sequential Model"
      ]
    },
    {
      "cell_type": "code",
      "execution_count": null,
      "id": "f7dcc624-5a3a-451e-b035-af4f4e2474ca",
      "metadata": {
        "id": "f7dcc624-5a3a-451e-b035-af4f4e2474ca",
        "outputId": "17895ac0-a6e5-4fd4-f93e-d9459806b82a"
      },
      "outputs": [
        {
          "name": "stdout",
          "output_type": "stream",
          "text": [
            "Model: \"sequential\"\n",
            "_________________________________________________________________\n",
            "Layer (type)                 Output Shape              Param #   \n",
            "=================================================================\n",
            "flatten (Flatten)            (None, 784)               0         \n",
            "_________________________________________________________________\n",
            "dense (Dense)                (None, 128)               100480    \n",
            "_________________________________________________________________\n",
            "dense_1 (Dense)              (None, 10)                1290      \n",
            "=================================================================\n",
            "Total params: 101,770\n",
            "Trainable params: 101,770\n",
            "Non-trainable params: 0\n",
            "_________________________________________________________________\n",
            "None\n"
          ]
        }
      ],
      "source": [
        "model = tf.keras.models.Sequential([\n",
        "    tf.keras.layers.Flatten(input_shape=(28,28)),\n",
        "    tf.keras.layers.Dense(128),\n",
        "    tf.keras.layers.Dense(10, activation='softmax')\n",
        "])\n",
        "\n",
        "print(model.summary())"
      ]
    },
    {
      "cell_type": "code",
      "execution_count": null,
      "id": "412048ff-cdf1-436b-bf9f-49f509c0a58e",
      "metadata": {
        "id": "412048ff-cdf1-436b-bf9f-49f509c0a58e",
        "outputId": "b2fa2c20-b07d-4f6f-f27c-a4723078cf19"
      },
      "outputs": [
        {
          "data": {
            "image/png": "[encoded data removed]",
            "text/plain": [
              "<IPython.core.display.Image object>"
            ]
          },
          "execution_count": 4,
          "metadata": {},
          "output_type": "execute_result"
        }
      ],
      "source": [
        "model._layers = [layer for layer in model._layers if isinstance(layer, Layer)]\n",
        "plot_model(model, show_shapes=True, show_layer_names=True)"
      ]
    },
    {
      "cell_type": "markdown",
      "id": "747b6233-1d82-40de-a079-6ace3fa81a6e",
      "metadata": {
        "id": "747b6233-1d82-40de-a079-6ace3fa81a6e"
      },
      "source": [
        "## Functional API"
      ]
    },
    {
      "cell_type": "code",
      "execution_count": null,
      "id": "a1b4fdff-93a5-40c0-b57f-7f473445e8b8",
      "metadata": {
        "id": "a1b4fdff-93a5-40c0-b57f-7f473445e8b8",
        "outputId": "482d964e-dbd7-48bc-b488-8a2e4aa88538"
      },
      "outputs": [
        {
          "name": "stdout",
          "output_type": "stream",
          "text": [
            "Model: \"model\"\n",
            "_________________________________________________________________\n",
            "Layer (type)                 Output Shape              Param #   \n",
            "=================================================================\n",
            "input_1 (InputLayer)         [(None, 28, 28)]          0         \n",
            "_________________________________________________________________\n",
            "flatten_1 (Flatten)          (None, 784)               0         \n",
            "_________________________________________________________________\n",
            "dense_2 (Dense)              (None, 128)               100480    \n",
            "_________________________________________________________________\n",
            "dense_3 (Dense)              (None, 10)                1290      \n",
            "=================================================================\n",
            "Total params: 101,770\n",
            "Trainable params: 101,770\n",
            "Non-trainable params: 0\n",
            "_________________________________________________________________\n",
            "None\n"
          ]
        }
      ],
      "source": [
        "input_layer = tf.keras.Input(shape=(28,28))\n",
        "flatten_layer = tf.keras.layers.Flatten()(input_layer)\n",
        "first_dense =tf.keras.layers.Dense(128, activation=tf.nn.relu)(flatten_layer)\n",
        "output_layer =tf.keras.layers.Dense(10, activation=tf.nn.softmax)(first_dense)\n",
        "\n",
        "func_model = Model(inputs=input_layer, outputs=output_layer)\n",
        "\n",
        "print(func_model.summary())"
      ]
    },
    {
      "cell_type": "code",
      "execution_count": null,
      "id": "66dbb24d-f1f4-423f-9c16-be3a50ead3e1",
      "metadata": {
        "id": "66dbb24d-f1f4-423f-9c16-be3a50ead3e1",
        "outputId": "a99f1c3f-7a97-4a69-a7af-5b5982a6ba3f"
      },
      "outputs": [
        {
          "data": {
            "image/png": "[encoded data removed]",
            "text/plain": [
              "<IPython.core.display.Image object>"
            ]
          },
          "execution_count": 6,
          "metadata": {},
          "output_type": "execute_result"
        }
      ],
      "source": [
        "func_model._layers = [layer for layer in func_model._layers if isinstance (layer, Layer)]\n",
        "plot_model(func_model, show_shapes = True, show_layer_names = True)"
      ]
    },
    {
      "cell_type": "markdown",
      "id": "a8fb943d-e806-4d56-a04d-cb4c9e2e6995",
      "metadata": {
        "tags": [],
        "id": "a8fb943d-e806-4d56-a04d-cb4c9e2e6995"
      },
      "source": [
        "## Add Lambda Layer"
      ]
    },
    {
      "cell_type": "code",
      "execution_count": null,
      "id": "790b1d19-69d3-4f1c-be66-16f6c788c201",
      "metadata": {
        "id": "790b1d19-69d3-4f1c-be66-16f6c788c201",
        "outputId": "b45bf228-6900-4255-8d3e-f5fb37369104"
      },
      "outputs": [
        {
          "name": "stdout",
          "output_type": "stream",
          "text": [
            "Model: \"sequential_1\"\n",
            "_________________________________________________________________\n",
            "Layer (type)                 Output Shape              Param #   \n",
            "=================================================================\n",
            "flatten_2 (Flatten)          (None, 784)               0         \n",
            "_________________________________________________________________\n",
            "dense_4 (Dense)              (None, 128)               100480    \n",
            "_________________________________________________________________\n",
            "lambda (Lambda)              (None, 128)               0         \n",
            "_________________________________________________________________\n",
            "dense_5 (Dense)              (None, 10)                1290      \n",
            "=================================================================\n",
            "Total params: 101,770\n",
            "Trainable params: 101,770\n",
            "Non-trainable params: 0\n",
            "_________________________________________________________________\n",
            "None\n"
          ]
        }
      ],
      "source": [
        "model_lambda = tf.keras.models.Sequential([\n",
        "  tf.keras.layers.Flatten(input_shape=(28, 28)),\n",
        "  tf.keras.layers.Dense(128),\n",
        "  tf.keras.layers.Lambda(lambda x: tf.abs(x)), \n",
        "  tf.keras.layers.Dense(10, activation='softmax')\n",
        "])\n",
        "\n",
        "print(model_lambda.summary())"
      ]
    },
    {
      "cell_type": "code",
      "execution_count": null,
      "id": "43aba734-6a96-431a-9118-9dbd8ca34ece",
      "metadata": {
        "id": "43aba734-6a96-431a-9118-9dbd8ca34ece",
        "outputId": "f593a1c3-3865-4ff0-bf6c-55663f0663cb"
      },
      "outputs": [
        {
          "data": {
            "image/png": "[encoded data removed]",
            "text/plain": [
              "<IPython.core.display.Image object>"
            ]
          },
          "execution_count": 8,
          "metadata": {},
          "output_type": "execute_result"
        }
      ],
      "source": [
        "model_lambda._layers = [layer for layer in model_lambda._layers if isinstance (layer, Layer)]\n",
        "plot_model(model_lambda, show_shapes = True, show_layer_names = True)"
      ]
    },
    {
      "cell_type": "markdown",
      "id": "092d733b-b997-4cf2-bb29-153dcd23623a",
      "metadata": {
        "id": "092d733b-b997-4cf2-bb29-153dcd23623a"
      },
      "source": [
        "## Define your own function for lambda layer"
      ]
    },
    {
      "cell_type": "code",
      "execution_count": null,
      "id": "c1c66909-5d46-43e3-81c5-700b572980b7",
      "metadata": {
        "id": "c1c66909-5d46-43e3-81c5-700b572980b7",
        "outputId": "cf3c7da5-d9f0-4bc3-ee86-b66c958855bf"
      },
      "outputs": [
        {
          "name": "stdout",
          "output_type": "stream",
          "text": [
            "Model: \"sequential_2\"\n",
            "_________________________________________________________________\n",
            "Layer (type)                 Output Shape              Param #   \n",
            "=================================================================\n",
            "flatten_3 (Flatten)          (None, 784)               0         \n",
            "_________________________________________________________________\n",
            "dense_6 (Dense)              (None, 128)               100480    \n",
            "_________________________________________________________________\n",
            "lambda_1 (Lambda)            (None, 128)               0         \n",
            "_________________________________________________________________\n",
            "dense_7 (Dense)              (None, 10)                1290      \n",
            "=================================================================\n",
            "Total params: 101,770\n",
            "Trainable params: 101,770\n",
            "Non-trainable params: 0\n",
            "_________________________________________________________________\n",
            "None\n"
          ]
        }
      ],
      "source": [
        "# You can give only x parameter for the function\n",
        "def my_relu(x):\n",
        "    return K.maximum(-0.1, x)\n",
        "\n",
        "model_lambda = tf.keras.models.Sequential([\n",
        "  tf.keras.layers.Flatten(input_shape=(28, 28)),\n",
        "  tf.keras.layers.Dense(128),\n",
        "  tf.keras.layers.Lambda(my_relu), \n",
        "  tf.keras.layers.Dense(10, activation='softmax')\n",
        "])\n",
        "\n",
        "print(model_lambda.summary())"
      ]
    },
    {
      "cell_type": "markdown",
      "id": "e7e3c060-dc30-4ca5-810c-b4a37267d30d",
      "metadata": {
        "tags": [],
        "id": "e7e3c060-dc30-4ca5-810c-b4a37267d30d"
      },
      "source": [
        "## What if I want to add more parameter for a function? "
      ]
    },
    {
      "cell_type": "code",
      "execution_count": null,
      "id": "fcef9495-fad4-4386-af0f-8c7a1d5f9d11",
      "metadata": {
        "id": "fcef9495-fad4-4386-af0f-8c7a1d5f9d11",
        "outputId": "fb5ee85a-5d6d-417f-a182-c41935fdd682"
      },
      "outputs": [
        {
          "name": "stdout",
          "output_type": "stream",
          "text": [
            "Model: \"sequential_3\"\n",
            "_________________________________________________________________\n",
            "Layer (type)                 Output Shape              Param #   \n",
            "=================================================================\n",
            "flatten_4 (Flatten)          (None, 784)               0         \n",
            "_________________________________________________________________\n",
            "dense_8 (Dense)              (None, 128)               100480    \n",
            "_________________________________________________________________\n",
            "lambda_2 (Lambda)            (None, 128)               0         \n",
            "_________________________________________________________________\n",
            "dense_9 (Dense)              (None, 10)                1290      \n",
            "=================================================================\n",
            "Total params: 101,770\n",
            "Trainable params: 101,770\n",
            "Non-trainable params: 0\n",
            "_________________________________________________________________\n",
            "None\n"
          ]
        }
      ],
      "source": [
        "# You can give only x parameter for the function\n",
        "def my_relu_with_treshold(treshold):\n",
        "    def my_relu(x):\n",
        "        return K.maximum(treshold, x)\n",
        "    return my_relu\n",
        "\n",
        "model_lambda = tf.keras.models.Sequential([\n",
        "  tf.keras.layers.Flatten(input_shape=(28, 28)),\n",
        "  tf.keras.layers.Dense(128),\n",
        "  tf.keras.layers.Lambda(my_relu_with_treshold(-0.1)), \n",
        "  tf.keras.layers.Dense(10, activation='softmax')\n",
        "])\n",
        "\n",
        "print(model_lambda.summary())"
      ]
    },
    {
      "cell_type": "markdown",
      "id": "0fb9761b-d8f6-485f-8d46-79375389e18e",
      "metadata": {
        "id": "0fb9761b-d8f6-485f-8d46-79375389e18e"
      },
      "source": [
        "# Train Model "
      ]
    },
    {
      "cell_type": "code",
      "execution_count": null,
      "id": "37301e55-9734-4978-8902-24edaa505bd0",
      "metadata": {
        "id": "37301e55-9734-4978-8902-24edaa505bd0",
        "outputId": "30994801-7505-4766-a0ce-c4bb2141cba0"
      },
      "outputs": [
        {
          "name": "stdout",
          "output_type": "stream",
          "text": [
            "Epoch 1/5\n",
            "1875/1875 [==============================] - 6s 3ms/step - loss: 22.3896 - accuracy: 0.8150A: 1s - lo\n",
            "Epoch 2/5\n",
            "1875/1875 [==============================] - 5s 3ms/step - loss: 4.2671 - accuracy: 0.8819: 2s - loss: 4.6822 -  - ETA: 0s - loss:\n",
            "Epoch 3/5\n",
            "1875/1875 [==============================] - 6s 3ms/step - loss: 1.3537 - accuracy: 0.8657: 0s - loss: 1.3561 - accuracy: \n",
            "Epoch 4/5\n",
            "1875/1875 [==============================] - 5s 3ms/step - loss: 1.1558 - accuracy: 0.8535\n",
            "Epoch 5/5\n",
            "1875/1875 [==============================] - 5s 3ms/step - loss: 1.1398 - accuracy: 0.8522\n",
            "313/313 [==============================] - 1s 3ms/step - loss: 1.2529 - accuracy: 0.8635\n"
          ]
        },
        {
          "data": {
            "text/plain": [
              "[1.2529369592666626, 0.8634999990463257]"
            ]
          },
          "execution_count": 11,
          "metadata": {},
          "output_type": "execute_result"
        }
      ],
      "source": [
        "model.compile(optimizer=tf.optimizers.Adam(),  # 'adam'\n",
        "              loss='sparse_categorical_crossentropy',\n",
        "              metrics=['accuracy'])\n",
        "\n",
        "model.fit(x_train, y_train, epochs=5)\n",
        "model.evaluate(x_test, y_test)"
      ]
    },
    {
      "cell_type": "code",
      "execution_count": null,
      "id": "5692e790-f066-4eb8-84d0-48fd022f550f",
      "metadata": {
        "id": "5692e790-f066-4eb8-84d0-48fd022f550f",
        "outputId": "705273fe-e031-472d-f791-e6217552fab2"
      },
      "outputs": [
        {
          "name": "stdout",
          "output_type": "stream",
          "text": [
            "Epoch 1/5\n",
            "1875/1875 [==============================] - 5s 3ms/step - loss: 7.7584 - accuracy: 0.8222\n",
            "Epoch 2/5\n",
            "1875/1875 [==============================] - 5s 3ms/step - loss: 0.4100 - accuracy: 0.9028\n",
            "Epoch 3/5\n",
            "1875/1875 [==============================] - 6s 3ms/step - loss: 0.2873 - accuracy: 0.9301: 0s - los\n",
            "Epoch 4/5\n",
            "1875/1875 [==============================] - 5s 3ms/step - loss: 0.2430 - accuracy: 0.9397\n",
            "Epoch 5/5\n",
            "1875/1875 [==============================] - 5s 3ms/step - loss: 0.2123 - accuracy: 0.9468\n",
            "313/313 [==============================] - 1s 3ms/step - loss: 0.2747 - accuracy: 0.9391\n"
          ]
        },
        {
          "data": {
            "text/plain": [
              "[0.274728000164032, 0.9391000270843506]"
            ]
          },
          "execution_count": 12,
          "metadata": {},
          "output_type": "execute_result"
        }
      ],
      "source": [
        "# It has relu activation function in the dense layer. It helps!\n",
        "func_model.compile(optimizer=tf.optimizers.Adam(),\n",
        "              loss='sparse_categorical_crossentropy',\n",
        "              metrics=['accuracy'])\n",
        "\n",
        "func_model.fit(x_train, y_train, epochs=5)\n",
        "func_model.evaluate(x_test, y_test)"
      ]
    },
    {
      "cell_type": "markdown",
      "id": "a07fe2db-dfa3-44e3-94df-264e68d69c61",
      "metadata": {
        "id": "a07fe2db-dfa3-44e3-94df-264e68d69c61"
      },
      "source": [
        "# Define Custom Loss"
      ]
    },
    {
      "cell_type": "code",
      "execution_count": null,
      "id": "6e484ea0-9a67-4c86-9603-2f4b310f8088",
      "metadata": {
        "id": "6e484ea0-9a67-4c86-9603-2f4b310f8088"
      },
      "outputs": [],
      "source": [
        "# inputs\n",
        "xs = np.array([-1.0,  0.0, 1.0, 2.0, 3.0, 4.0], dtype=float)\n",
        "\n",
        "# labels\n",
        "ys = np.array([-3.0, -1.0, 1.0, 3.0, 5.0, 7.0], dtype=float)\n",
        "\n",
        "simple_model = tf.keras.Sequential([tf.keras.layers.Dense(units=1, input_shape=[1])])\n",
        "\n",
        "simple_model.compile(optimizer=tf.optimizers.Adam(),\n",
        "              loss='mean_squared_error',\n",
        "              metrics=['accuracy'])\n",
        "\n",
        "simple_model.fit(xs, ys, epochs=10)\n",
        "print(simple_model.predict([10.0]))"
      ]
    },
    {
      "cell_type": "code",
      "execution_count": null,
      "id": "d018afaf-1267-42b7-a057-143e36bab6bc",
      "metadata": {
        "id": "d018afaf-1267-42b7-a057-143e36bab6bc"
      },
      "outputs": [],
      "source": [
        "def my_huber_loss(y_true, y_pred):\n",
        "    # This function can only get y_true, y_pred \n",
        "    # if the abs loss is less than treshold, calculate error^2 /2\n",
        "    # o.w, calculate treshold* (abs_error - treshold/2)\n",
        "    \n",
        "    threshold = 1\n",
        "    error = y_true - y_pred\n",
        "    is_small_error = tf.abs(error) <= threshold\n",
        "    small_error_loss = tf.square(error) / 2\n",
        "    big_error_loss = threshold * (tf.abs(error) - (0.5 * threshold))\n",
        "    return tf.where(is_small_error, small_error_loss, big_error_loss)"
      ]
    },
    {
      "cell_type": "code",
      "execution_count": null,
      "id": "5ab8bcd6-a3bd-43b9-9d9e-598812eae331",
      "metadata": {
        "id": "5ab8bcd6-a3bd-43b9-9d9e-598812eae331"
      },
      "outputs": [],
      "source": [
        "def trial_loss(y_true, y_pred):\n",
        "    return y_true - y_pred"
      ]
    },
    {
      "cell_type": "code",
      "execution_count": null,
      "id": "a07b5c15-2e2e-4bbd-baf8-1622b55a0eba",
      "metadata": {
        "id": "a07b5c15-2e2e-4bbd-baf8-1622b55a0eba",
        "outputId": "b63d6181-708b-4829-f94b-36cfc269dcbe"
      },
      "outputs": [
        {
          "name": "stdout",
          "output_type": "stream",
          "text": [
            "Epoch 1/5\n",
            "1/1 [==============================] - 0s 435ms/step - loss: 2.9770 - accuracy: 0.0000e+00\n",
            "Epoch 2/5\n",
            "1/1 [==============================] - 0s 5ms/step - loss: 2.9748 - accuracy: 0.0000e+00\n",
            "Epoch 3/5\n",
            "1/1 [==============================] - 0s 6ms/step - loss: 2.9726 - accuracy: 0.0000e+00\n",
            "Epoch 4/5\n",
            "1/1 [==============================] - 0s 5ms/step - loss: 2.9705 - accuracy: 0.0000e+00\n",
            "Epoch 5/5\n",
            "1/1 [==============================] - 0s 5ms/step - loss: 2.9683 - accuracy: 0.0000e+00\n",
            "[[-0.73665947]]\n"
          ]
        }
      ],
      "source": [
        "simple_model.compile(optimizer=tf.optimizers.Adam(),\n",
        "              loss=my_huber_loss,\n",
        "              metrics=['accuracy'])\n",
        "\n",
        "simple_model.fit(xs, ys, epochs=5)\n",
        "print(simple_model.predict([10.0]))"
      ]
    },
    {
      "cell_type": "code",
      "execution_count": null,
      "id": "31306fe9-d947-4e27-90cb-543df69c6d57",
      "metadata": {
        "id": "31306fe9-d947-4e27-90cb-543df69c6d57",
        "outputId": "af1b0427-9226-4a85-ed99-443b4375327e"
      },
      "outputs": [
        {
          "name": "stdout",
          "output_type": "stream",
          "text": [
            "Epoch 1/5\n",
            "1/1 [==============================] - 0s 271ms/step - loss: 2.0978 - accuracy: 0.0000e+00\n",
            "Epoch 2/5\n",
            "1/1 [==============================] - 0s 5ms/step - loss: 2.0953 - accuracy: 0.0000e+00\n",
            "Epoch 3/5\n",
            "1/1 [==============================] - 0s 5ms/step - loss: 2.0928 - accuracy: 0.0000e+00\n",
            "Epoch 4/5\n",
            "1/1 [==============================] - 0s 5ms/step - loss: 2.0903 - accuracy: 0.0000e+00\n",
            "Epoch 5/5\n",
            "1/1 [==============================] - 0s 4ms/step - loss: 2.0878 - accuracy: 0.0000e+00\n",
            "WARNING:tensorflow:5 out of the last 5 calls to <function Model.make_predict_function.<locals>.predict_function at 0x0000014858DDB3A0> triggered tf.function retracing. Tracing is expensive and the excessive number of tracings could be due to (1) creating @tf.function repeatedly in a loop, (2) passing tensors with different shapes, (3) passing Python objects instead of tensors. For (1), please define your @tf.function outside of the loop. For (2), @tf.function has experimental_relax_shapes=True option that relaxes argument shapes that can avoid unnecessary retracing. For (3), please refer to https://www.tensorflow.org/guide/function#controlling_retracing and https://www.tensorflow.org/api_docs/python/tf/function for  more details.\n",
            "[[-0.6816591]]\n"
          ]
        }
      ],
      "source": [
        "simple_model.compile(optimizer=tf.optimizers.Adam(),\n",
        "              loss=trial_loss,\n",
        "              metrics=['accuracy'])\n",
        "\n",
        "simple_model.fit(xs, ys, epochs=5)\n",
        "print(simple_model.predict([10.0]))"
      ]
    },
    {
      "cell_type": "markdown",
      "id": "a9eee880-0859-482b-a4f8-51f0411107db",
      "metadata": {
        "tags": [],
        "id": "a9eee880-0859-482b-a4f8-51f0411107db"
      },
      "source": [
        "## What if I want to add more parameter for loss function?"
      ]
    },
    {
      "cell_type": "code",
      "execution_count": null,
      "id": "2e828483-e590-4024-b546-0ef614a022d1",
      "metadata": {
        "id": "2e828483-e590-4024-b546-0ef614a022d1"
      },
      "outputs": [],
      "source": [
        "def my_huberloss_with_threshold(threshold):\n",
        "    def my_huber_loss(y_true, y_pred):\n",
        "        error = y_true-y_pred\n",
        "        is_small = tf.abs(error) <= threshold\n",
        "        small_error_loss = tf.square(error) / 2\n",
        "        big_error_loss = threshold * (tf.abs(error) - 0.5*threshold)\n",
        "        \n",
        "        return tf.where(is_small, small_error_loss, big_error_loss)\n",
        "    return my_huber_loss"
      ]
    },
    {
      "cell_type": "code",
      "execution_count": null,
      "id": "bfd2b734-5ad7-4c01-a158-b2559ef5e955",
      "metadata": {
        "id": "bfd2b734-5ad7-4c01-a158-b2559ef5e955",
        "outputId": "3876f9b1-e509-4b5c-bbd4-3002b5f84521"
      },
      "outputs": [
        {
          "name": "stdout",
          "output_type": "stream",
          "text": [
            "WARNING:tensorflow:6 out of the last 6 calls to <function Model.make_predict_function.<locals>.predict_function at 0x00000148778373A0> triggered tf.function retracing. Tracing is expensive and the excessive number of tracings could be due to (1) creating @tf.function repeatedly in a loop, (2) passing tensors with different shapes, (3) passing Python objects instead of tensors. For (1), please define your @tf.function outside of the loop. For (2), @tf.function has experimental_relax_shapes=True option that relaxes argument shapes that can avoid unnecessary retracing. For (3), please refer to https://www.tensorflow.org/guide/function#controlling_retracing and https://www.tensorflow.org/api_docs/python/tf/function for  more details.\n",
            "[[18.68279]]\n"
          ]
        }
      ],
      "source": [
        "model = tf.keras.Sequential([tf.keras.layers.Dense(units=1, input_shape=[1])])\n",
        "model.compile(optimizer='sgd', loss=my_huberloss_with_threshold(threshold=1.2))\n",
        "model.fit(xs, ys, epochs=500,verbose=0)\n",
        "print(model.predict([10.0]))\n",
        "\n",
        "\n",
        "\n",
        "simple_model.compile(optimizer=tf.optimizers.Adam(),\n",
        "              loss=trial_loss,\n",
        "              metrics=['accuracy'])\n",
        "\n",
        "simple_model.fit(xs, ys, epochs=5)\n",
        "print(simple_model.predict([10.0]))"
      ]
    },
    {
      "cell_type": "markdown",
      "id": "88c344f6-b8fe-4d46-8f9e-c938d683d9c1",
      "metadata": {
        "id": "88c344f6-b8fe-4d46-8f9e-c938d683d9c1"
      },
      "source": [
        "## Loss Function as a Class"
      ]
    },
    {
      "cell_type": "code",
      "execution_count": null,
      "id": "5c70fd40-014d-44d0-8a71-f70cdfc5b514",
      "metadata": {
        "id": "5c70fd40-014d-44d0-8a71-f70cdfc5b514"
      },
      "outputs": [],
      "source": [
        "# It should inherit Keras Loss class\n",
        "\n",
        "from tensorflow.keras.losses import Loss\n",
        "\n",
        "class MyHuberLossClass(Loss):\n",
        "    def __init__(self, threshold=1):\n",
        "        super().__init__()\n",
        "        self.threshold = threshold\n",
        "    \n",
        "    def call(self, y_true, y_pred):\n",
        "        error = y_true-y_pred\n",
        "        is_small = tf.abs(error) <= self.threshold\n",
        "        small_error = tf.square(error) / 2\n",
        "        big_error = self.threshold*(tf.abs(error) - self.threshold*0.5)\n",
        "        return tf.where(is_small, small_error, big_error)"
      ]
    },
    {
      "cell_type": "code",
      "execution_count": null,
      "id": "5a66842f-3cfd-4880-aeae-130bd1c39bf4",
      "metadata": {
        "id": "5a66842f-3cfd-4880-aeae-130bd1c39bf4",
        "outputId": "7aec2efe-0ccc-448a-fbc2-a818d7d05d70"
      },
      "outputs": [
        {
          "name": "stdout",
          "output_type": "stream",
          "text": [
            "[[18.670675]]\n"
          ]
        }
      ],
      "source": [
        "model = tf.keras.Sequential([tf.keras.layers.Dense(units=1, input_shape=[1])])\n",
        "model.compile(optimizer='sgd', loss=MyHuberLossClass(threshold=1.02))\n",
        "model.fit(xs, ys, epochs=500,verbose=0)\n",
        "print(model.predict([10.0]))"
      ]
    },
    {
      "cell_type": "markdown",
      "id": "3278a722-7064-431d-8055-160a50318f7d",
      "metadata": {
        "id": "3278a722-7064-431d-8055-160a50318f7d"
      },
      "source": [
        "## Custom Dense Layer"
      ]
    },
    {
      "cell_type": "code",
      "execution_count": null,
      "id": "47ad95e4-2cd2-4665-8fd7-df03cc5117b5",
      "metadata": {
        "id": "47ad95e4-2cd2-4665-8fd7-df03cc5117b5"
      },
      "outputs": [],
      "source": [
        "# inherit from this base class\n",
        "from tensorflow.keras.layers import Layer\n",
        "\n",
        "class SimpleDense(Layer):\n",
        "    def __init__(self, units=32):\n",
        "        '''Initializes the instance attributes'''\n",
        "        super(SimpleDense, self).__init__()\n",
        "        self.units = units\n",
        "\n",
        "    def build(self, input_shape):\n",
        "        '''Create the state of the layer (weights)'''\n",
        "        # initialize the weights\n",
        "        w_init = tf.random_normal_initializer()\n",
        "        self.w = tf.Variable(name=\"kernel\", \n",
        "                             initial_value=w_init(shape=(input_shape[-1], self.units),\n",
        "                                                  dtype='float32'),\n",
        "                             trainable=True)\n",
        "\n",
        "        # initialize the biases\n",
        "        b_init = tf.zeros_initializer()\n",
        "        self.b = tf.Variable(name=\"bias\", \n",
        "                             initial_value=b_init(shape=(self.units,), dtype='float32'),\n",
        "                             trainable=True)\n",
        "\n",
        "    def call(self, inputs):\n",
        "        '''Defines the computation from inputs to outputs'''\n",
        "        return tf.matmul(inputs, self.w) + self.b"
      ]
    },
    {
      "cell_type": "code",
      "execution_count": null,
      "id": "0529c623-421c-4e61-bf5f-c0959a02d562",
      "metadata": {
        "id": "0529c623-421c-4e61-bf5f-c0959a02d562",
        "outputId": "8770f098-f7d2-4c45-83a1-2aed712adfbe"
      },
      "outputs": [
        {
          "data": {
            "image/png": "[encoded data removed]",
            "text/plain": [
              "<IPython.core.display.Image object>"
            ]
          },
          "execution_count": 27,
          "metadata": {},
          "output_type": "execute_result"
        }
      ],
      "source": [
        "# inputs\n",
        "xs = np.array([-1.0,  0.0, 1.0, 2.0, 3.0, 4.0], dtype=float)\n",
        "ys = np.array([-3.0, -1.0, 1.0, 3.0, 5.0, 7.0], dtype=float)\n",
        "\n",
        "simple_model = tf.keras.Sequential([\n",
        "    tf.keras.layers.Dense(units=1, input_shape=[1])])\n",
        "\n",
        "simple_model._layers = [layer for layer in simple_model._layers if isinstance (layer, Layer)]\n",
        "plot_model(simple_model, show_shapes = True, show_layer_names = True)"
      ]
    },
    {
      "cell_type": "code",
      "execution_count": null,
      "id": "f43463fd-f861-4498-945d-a77ed9deecdf",
      "metadata": {
        "id": "f43463fd-f861-4498-945d-a77ed9deecdf",
        "outputId": "45e78560-9096-4984-ddc0-bd3cb62237ba"
      },
      "outputs": [
        {
          "name": "stdout",
          "output_type": "stream",
          "text": [
            "Epoch 1/10\n",
            "1/1 [==============================] - 0s 297ms/step - loss: 1.7996 - accuracy: 0.1667\n",
            "Epoch 2/10\n",
            "1/1 [==============================] - 0s 5ms/step - loss: 1.7943 - accuracy: 0.1667\n",
            "Epoch 3/10\n",
            "1/1 [==============================] - 0s 6ms/step - loss: 1.7889 - accuracy: 0.1667\n",
            "Epoch 4/10\n",
            "1/1 [==============================] - 0s 5ms/step - loss: 1.7836 - accuracy: 0.1667\n",
            "Epoch 5/10\n",
            "1/1 [==============================] - 0s 6ms/step - loss: 1.7782 - accuracy: 0.1667\n",
            "Epoch 6/10\n",
            "1/1 [==============================] - 0s 5ms/step - loss: 1.7729 - accuracy: 0.1667\n",
            "Epoch 7/10\n",
            "1/1 [==============================] - 0s 5ms/step - loss: 1.7676 - accuracy: 0.1667\n",
            "Epoch 8/10\n",
            "1/1 [==============================] - 0s 5ms/step - loss: 1.7624 - accuracy: 0.1667\n",
            "Epoch 9/10\n",
            "1/1 [==============================] - 0s 6ms/step - loss: 1.7571 - accuracy: 0.1667\n",
            "Epoch 10/10\n",
            "1/1 [==============================] - 0s 6ms/step - loss: 1.7519 - accuracy: 0.1667\n",
            "WARNING:tensorflow:10 out of the last 10 calls to <function Model.make_predict_function.<locals>.predict_function at 0x0000014883BCE430> triggered tf.function retracing. Tracing is expensive and the excessive number of tracings could be due to (1) creating @tf.function repeatedly in a loop, (2) passing tensors with different shapes, (3) passing Python objects instead of tensors. For (1), please define your @tf.function outside of the loop. For (2), @tf.function has experimental_relax_shapes=True option that relaxes argument shapes that can avoid unnecessary retracing. For (3), please refer to https://www.tensorflow.org/guide/function#controlling_retracing and https://www.tensorflow.org/api_docs/python/tf/function for  more details.\n",
            "[[12.317296]]\n"
          ]
        }
      ],
      "source": [
        "simple_model.compile(optimizer=tf.optimizers.Adam(),\n",
        "              loss='mean_squared_error',\n",
        "              metrics=['accuracy'])\n",
        "\n",
        "simple_model.fit(xs, ys, epochs=10)\n",
        "print(simple_model.predict([10.0]))"
      ]
    },
    {
      "cell_type": "code",
      "execution_count": null,
      "id": "ba9be2bc-1fdf-4546-ab42-f40619468217",
      "metadata": {
        "id": "ba9be2bc-1fdf-4546-ab42-f40619468217",
        "outputId": "2d070ca8-9e59-41e9-c0ad-057e0fdb4c02"
      },
      "outputs": [
        {
          "name": "stdout",
          "output_type": "stream",
          "text": [
            "WARNING:tensorflow:8 out of the last 8 calls to <function Model.make_predict_function.<locals>.predict_function at 0x00000148833EDCA0> triggered tf.function retracing. Tracing is expensive and the excessive number of tracings could be due to (1) creating @tf.function repeatedly in a loop, (2) passing tensors with different shapes, (3) passing Python objects instead of tensors. For (1), please define your @tf.function outside of the loop. For (2), @tf.function has experimental_relax_shapes=True option that relaxes argument shapes that can avoid unnecessary retracing. For (3), please refer to https://www.tensorflow.org/guide/function#controlling_retracing and https://www.tensorflow.org/api_docs/python/tf/function for  more details.\n",
            "[[18.981737]]\n",
            "[<tf.Variable 'simple_dense/kernel:0' shape=(1, 1) dtype=float32, numpy=array([[1.9973532]], dtype=float32)>, <tf.Variable 'simple_dense/bias:0' shape=(1,) dtype=float32, numpy=array([-0.991794], dtype=float32)>]\n"
          ]
        }
      ],
      "source": [
        "# define the dataset\n",
        "xs = np.array([-1.0,  0.0, 1.0, 2.0, 3.0, 4.0], dtype=float)\n",
        "ys = np.array([-3.0, -1.0, 1.0, 3.0, 5.0, 7.0], dtype=float)\n",
        "\n",
        "\n",
        "# use the Sequential API to build a model with our custom layer\n",
        "my_layer = SimpleDense(units=1)\n",
        "model = tf.keras.Sequential([my_layer])\n",
        "\n",
        "# configure and train the model\n",
        "model.compile(optimizer='sgd', loss='mean_squared_error')\n",
        "model.fit(xs, ys, epochs=500,verbose=0)\n",
        "\n",
        "# perform inference\n",
        "print(model.predict([10.0]))\n",
        "\n",
        "# see the updated state of the variables\n",
        "print(my_layer.variables)"
      ]
    }
  ],
  "metadata": {
    "kernelspec": {
      "display_name": "Python 3",
      "language": "python",
      "name": "python3"
    },
    "language_info": {
      "codemirror_mode": {
        "name": "ipython",
        "version": 3
      },
      "file_extension": ".py",
      "mimetype": "text/x-python",
      "name": "python",
      "nbconvert_exporter": "python",
      "pygments_lexer": "ipython3",
      "version": "3.8.5"
    },
    "colab": {
      "provenance": [],
      "include_colab_link": true
    }
  },
  "nbformat": 4,
  "nbformat_minor": 5
}